{
  "cells": [
    {
      "cell_type": "markdown",
      "metadata": {
        "id": "view-in-github",
        "colab_type": "text"
      },
      "source": [
        "<a href=\"https://colab.research.google.com/github/MHoseinHoushmand/Clustering-documents-by-SFLA/blob/main/Clustering_by_SFLA.ipynb\" target=\"_parent\"><img src=\"https://colab.research.google.com/assets/colab-badge.svg\" alt=\"Open In Colab\"/></a>"
      ]
    },
    {
      "cell_type": "markdown",
      "metadata": {
        "id": "PpYLLKWhZT3g"
      },
      "source": [
        "# Libraries & prerequisites"
      ]
    },
    {
      "cell_type": "code",
      "execution_count": 15,
      "metadata": {
        "id": "Xzs8-dIrDaUr"
      },
      "outputs": [],
      "source": [
        "import numpy as np\n",
        "import pdb\n",
        "from sklearn.datasets import fetch_20newsgroups\n",
        "from sklearn.feature_extraction.text import TfidfVectorizer\n",
        "from sklearn.metrics.pairwise import cosine_similarity\n",
        "from numpy.linalg import norm\n",
        "from sklearn.decomposition import TruncatedSVD\n",
        "from sklearn import metrics\n",
        "import matplotlib.pyplot as plt\n",
        "import operator\n",
        "import random\n",
        "import pandas as pd"
      ]
    },
    {
      "cell_type": "code",
      "execution_count": 16,
      "metadata": {
        "id": "HJLN15ICM7oY"
      },
      "outputs": [],
      "source": [
        "def docs_as_tfidf(docs):\n",
        "  vectorizer = TfidfVectorizer(\n",
        "     max_df=0.5, #Removing terms that are used in more than 50% of articles\n",
        "     min_df=5,   #Removing terms that are not used in less than 10 of articles\n",
        "     stop_words=\"english\",\n",
        "     #  max_features=1000,\n",
        "  )\n",
        "  docs_vector = vectorizer.fit_transform(docs)\n",
        "  print(len(docs_vector.toarray()[0]))\n",
        "  return docs_vector.toarray()"
      ]
    },
    {
      "cell_type": "code",
      "execution_count": 17,
      "metadata": {
        "id": "zmAgOo-xD97V"
      },
      "outputs": [],
      "source": [
        "def cosin_sim(a,b):\n",
        "   return cosine_similarity([a], [b])[0][0]"
      ]
    },
    {
      "cell_type": "markdown",
      "source": [
        "# BBC text dataset"
      ],
      "metadata": {
        "id": "hKHa_D3_EjUR"
      }
    },
    {
      "cell_type": "code",
      "source": [
        "from google.colab import drive\n",
        "drive.mount('/content/drive')"
      ],
      "metadata": {
        "colab": {
          "base_uri": "https://localhost:8080/"
        },
        "id": "FWbIoMn3EmpD",
        "outputId": "0cfa74a1-f7d2-4645-dad9-4fd41de0c889"
      },
      "execution_count": 2,
      "outputs": [
        {
          "output_type": "stream",
          "name": "stdout",
          "text": [
            "Mounted at /content/drive\n"
          ]
        }
      ]
    },
    {
      "cell_type": "code",
      "source": [
        "df = pd.read_csv(\"/content/drive/MyDrive/bbc-text.csv\")"
      ],
      "metadata": {
        "id": "2OKEfc7iE5UL"
      },
      "execution_count": 3,
      "outputs": []
    },
    {
      "cell_type": "code",
      "source": [
        "texts = list(df.text)[0:200]\n",
        "labels_tag = list(df.category)[0:200]\n",
        "labels = []\n",
        "#print(labels_tag)\n",
        "label_to_number = {'tech': 0, 'business': 1, 'sport': 2, 'entertainment': 3, 'politics': 4}\n",
        "for label in labels_tag:\n",
        "    labels.append(label_to_number[label])\n",
        "print(labels)"
      ],
      "metadata": {
        "colab": {
          "base_uri": "https://localhost:8080/"
        },
        "id": "H20t_X_xHyAP",
        "outputId": "df74da44-5749-4854-d6ca-267920034c91"
      },
      "execution_count": 4,
      "outputs": [
        {
          "output_type": "stream",
          "name": "stdout",
          "text": [
            "[0, 1, 2, 2, 3, 4, 4, 2, 2, 3, 3, 1, 1, 4, 2, 1, 4, 2, 1, 0, 0, 0, 2, 2, 0, 2, 3, 0, 4, 3, 4, 0, 3, 3, 1, 4, 0, 3, 4, 1, 4, 2, 1, 2, 0, 3, 4, 4, 4, 1, 2, 4, 1, 1, 2, 4, 1, 2, 2, 1, 1, 2, 1, 2, 1, 0, 1, 3, 0, 1, 4, 1, 4, 2, 1, 0, 1, 2, 2, 1, 1, 2, 4, 1, 3, 4, 4, 1, 3, 1, 2, 2, 4, 2, 4, 2, 1, 2, 1, 3, 3, 2, 1, 4, 4, 0, 2, 3, 2, 0, 1, 3, 2, 3, 2, 3, 3, 4, 2, 2, 3, 4, 1, 0, 1, 1, 0, 2, 4, 2, 0, 3, 2, 1, 1, 0, 3, 0, 2, 1, 1, 1, 0, 2, 0, 1, 2, 3, 2, 0, 2, 0, 4, 1, 0, 3, 2, 1, 4, 1, 3, 4, 4, 3, 4, 1, 3, 4, 4, 3, 4, 2, 1, 4, 4, 1, 3, 2, 1, 1, 2, 0, 2, 0, 0, 2, 1, 2, 4, 3, 4, 1, 4, 1, 0, 4, 3, 4, 0, 1]\n"
          ]
        }
      ]
    },
    {
      "cell_type": "markdown",
      "metadata": {
        "id": "XO5gMH1yZfDF"
      },
      "source": [
        "\n",
        "\n",
        "# 20newsgroup dataset"
      ]
    },
    {
      "cell_type": "code",
      "execution_count": null,
      "metadata": {
        "colab": {
          "base_uri": "https://localhost:8080/"
        },
        "id": "1BRCBJP8DrKh",
        "outputId": "00f0e8eb-3eeb-4b7c-c815-d062b88de075"
      },
      "outputs": [
        {
          "output_type": "stream",
          "name": "stdout",
          "text": [
            "200 documents - 4 categories\n"
          ]
        }
      ],
      "source": [
        "categories = [  #Select 4 categories from fetch_20newsgroups dataset\n",
        "    \"alt.atheism\",\n",
        "    \"comp.graphics\",\n",
        "    \"sci.space\",\n",
        "    \"rec.sport.hockey\",\n",
        "]\n",
        "dataset = fetch_20newsgroups( #Preprocessing before using dataset\n",
        "    remove=(\"headers\", \"footers\", \"quotes\"),\n",
        "    subset=\"all\",\n",
        "    categories=categories,\n",
        "    shuffle=True,\n",
        "    random_state=42,\n",
        ")\n",
        "texts = dataset.data[0:200]\n",
        "labels = dataset.target[0:200]\n",
        "unique_labels, category_sizes = np.unique(labels, return_counts=True)\n",
        "true_k = unique_labels.shape[0]\n",
        "print(f\"{len(texts)} documents - {true_k} categories\")"
      ]
    },
    {
      "cell_type": "markdown",
      "metadata": {
        "id": "mW2Sp0yBaKyT"
      },
      "source": [
        "\n",
        "\n",
        "# Define Objects"
      ]
    },
    {
      "cell_type": "code",
      "execution_count": 5,
      "metadata": {
        "id": "7X8S4OjdEiNK"
      },
      "outputs": [],
      "source": [
        "class Cluster:\n",
        "     def __init__(self):\n",
        "         self.documents = []\n",
        "         self.doc_mean = []\n",
        "\n",
        "     def get_doc_mean(self):\n",
        "        self.doc_mean = np.average(self.documents, axis=0)\n",
        "        return self.doc_mean\n",
        "\n",
        "     def SSE(self):     #Sum of squared error(SSE) as similarity of each documents with the cluster mean in document\n",
        "         doc_mean = self.get_doc_mean()\n",
        "         size = len(self.documents)\n",
        "         sse=0\n",
        "         for doc in self.documents:\n",
        "             sse += cosin_sim(doc,doc_mean)**2\n",
        "         try:\n",
        "             sse = sse/size\n",
        "         except ZeroDivisionError:\n",
        "             return 0\n",
        "         return sse\n"
      ]
    },
    {
      "cell_type": "code",
      "execution_count": 6,
      "metadata": {
        "id": "t-2paO0eD5HB"
      },
      "outputs": [],
      "source": [
        "class Frog:\n",
        "     def __init__(self,answer,docs_vector,n_clusters):\n",
        "        self.answer = answer\n",
        "        self.value = self.fitness(docs_vector,n_clusters)\n",
        "\n",
        "\n",
        "\n",
        "     def build_clusters(self,docs_vector,n_clusters):#Build clusters for frog\n",
        "          clusters = []\n",
        "          for i in range(n_clusters):\n",
        "             cluster = Cluster()\n",
        "             clusters.append(cluster)\n",
        "          for j in range(len(self.answer)):\n",
        "             if -1 < self.answer[j]:\n",
        "                clusters[self.answer[j]].documents.append(docs_vector[j])\n",
        "          return clusters\n",
        "\n",
        "\n",
        "     def WC(self,clusters):   #Calculate similarity within clusters\n",
        "        WC = 0\n",
        "        for cluster in clusters:\n",
        "            WC += cluster.SSE()\n",
        "        return WC\n",
        "\n",
        "\n",
        "     def BC(self,doc_means):#Calculate similarity between clusters\n",
        "          BC=0\n",
        "          size = len(doc_means)\n",
        "          for i in range(size):\n",
        "              for j in range(i+1,size):\n",
        "                  BC += cosin_sim(doc_means[i],doc_means[j])**2\n",
        "          return BC\n",
        "\n",
        "\n",
        "     def fitness(self,docs_vector,n_clusters):\n",
        "           doc_means = []\n",
        "          # pdb.set_trace()\n",
        "           clusters = self.build_clusters(docs_vector,n_clusters)\n",
        "           for i in range(n_clusters):\n",
        "               doc_means.append(\n",
        "                  clusters[i].get_doc_mean()\n",
        "               )\n",
        "           wc = self.WC(clusters) #Calculate similarity within clusters\n",
        "           bc = self.BC(doc_means) #Calculate similarity between clusters\n",
        "           fitness = wc/bc\n",
        "           return fitness\n",
        "\n",
        "\n",
        "     def cross_over(self,frog_b,docs_vector,n_clusters): #perform 2 points cross over\n",
        "           frog_size = len(self.answer)\n",
        "           points = sorted(np.random.choice(np.arange(0,frog_size), size=2, replace=False))\n",
        "           answer1 = self.answer[:points[0]] + frog_b.answer[points[0]:points[1]] + self.answer[points[1]:]\n",
        "           answer2 = frog_b.answer[:points[0]] + self.answer[points[0]:points[1]] + frog_b.answer[points[1]:]\n",
        "           child1 = Frog(answer1,docs_vector,n_clusters)\n",
        "           child2 = Frog(answer2,docs_vector,n_clusters)\n",
        "           if child1.value > child2.value: # return best child\n",
        "               return child1\n",
        "           else :\n",
        "               return child2\n",
        "\n",
        "     def mutation(self,docs_vector,n_clusters):#Select len(answer)/4 of answers and change value\n",
        "         new_ans = list(self.answer)\n",
        "         size = int(len(self.answer)/4)\n",
        "         indexes = np.random.choice(np.arange(0,len(self.answer)), size=size, replace=False)#Select indexes for changing\n",
        "         values= [random.randint(0, n_clusters-1) for _ in range(size)]\n",
        "         for i in range(size):\n",
        "            new_ans[indexes[i]] = values[i]\n",
        "         child = Frog(tuple(new_ans),docs_vector,n_clusters)\n",
        "         return  child"
      ]
    },
    {
      "cell_type": "code",
      "execution_count": 7,
      "metadata": {
        "id": "lI-jE36fK4eo"
      },
      "outputs": [],
      "source": [
        "class Memplex:\n",
        "     def __init__(self):\n",
        "         self.frogs = []\n",
        "\n",
        "     def best(self):\n",
        "        if len(self.frogs) > 0:\n",
        "           return self.frogs[0]\n",
        "\n",
        "     def worst(self,frogs):\n",
        "        if len(self.frogs) > 0:\n",
        "           return self.frogs[len(self.frogs)-1]\n",
        "\n",
        "     def frogs_to_remove(self,sub_memplex):#Remove all frogs from submemplex in memplex\n",
        "         for item in sub_memplex.frogs:\n",
        "            self.frogs.remove(item)\n",
        "         return self\n",
        "\n",
        "     def add_frogs(self,submemplex):\n",
        "         self.frogs = self.frogs + submemplex.frogs"
      ]
    },
    {
      "cell_type": "code",
      "execution_count": 8,
      "metadata": {
        "id": "UKCFJ7tzLDGp"
      },
      "outputs": [],
      "source": [
        "class Submemplex:\n",
        "     def __init__(self, memplex ,n_submemplex,memplex_size ):#Creating submemplex by Trigonometric probability\n",
        "         self.frogs = []\n",
        "         self.prob_list = []\n",
        "         indexs = []\n",
        "         for i in range(memplex_size):\n",
        "             for j in range(2*(memplex_size-i)):\n",
        "                 self.prob_list.append(i)\n",
        "         k=0\n",
        "         while(k!=n_submemplex):\n",
        "            index = random.choice(self.prob_list)\n",
        "            key = memplex.frogs[index].answer\n",
        "           # pdb.set_trace()\n",
        "            if index not in indexs:\n",
        "                self.frogs.append(memplex.frogs[index])\n",
        "                indexs.append(index)\n",
        "                k+=1\n",
        "\n",
        "     def best(self):\n",
        "         local_best =  max(self.frogs, key=lambda frog: frog.value)\n",
        "         return local_best\n",
        "\n",
        "     def worst(self):\n",
        "         local_worst =  min(self.frogs, key=lambda frog: frog.value)\n",
        "         return local_worst\n"
      ]
    },
    {
      "cell_type": "code",
      "execution_count": 9,
      "metadata": {
        "id": "iQEx3eb8LHCR"
      },
      "outputs": [],
      "source": [
        "class Population:\n",
        "     def __init__(self,n_clusters, n_population ,n_docs, docs_vector):\n",
        "        answers = np.random.randint(0, n_clusters, size=(n_population , n_docs))\n",
        "        self.frogs = []\n",
        "        i=0\n",
        "        for answer in answers:\n",
        "           frog = Frog(tuple(answer),docs_vector,n_clusters)\n",
        "           self.frogs.append(frog)\n",
        "           print(i,frog.value)\n",
        "           i+=1\n",
        "\n",
        "     def clear_frogs(self):\n",
        "        self.frogs.clear()\n",
        "\n",
        "     def global_best(self,memplexes):#Return best frog of all memplexes\n",
        "        local_bests = []\n",
        "        for memplex in memplexes:\n",
        "            local_best =  max(memplex.frogs, key=lambda frog: frog.value)\n",
        "            local_bests.append(local_best)\n",
        "        global_best =  max(local_bests, key=lambda frog: frog.value)\n",
        "        return global_best\n",
        "\n",
        "     def shufeling(self,memplexes):#Shufle memplexes and recreate population\n",
        "         output = []\n",
        "         for memplex in memplexes:\n",
        "            output = output+ memplex.frogs\n",
        "         self.frogs = output"
      ]
    },
    {
      "cell_type": "code",
      "execution_count": 10,
      "metadata": {
        "id": "EBgfZ5FKLK_g"
      },
      "outputs": [],
      "source": [
        "class SFLA:\n",
        "     def  __init__(self,n_clusters, max_iteration, texts ,labels):\n",
        "        self.n_clusters = n_clusters\n",
        "        self.max_iteration =  max_iteration\n",
        "        self.docs = texts\n",
        "        self.n_population = 400 # Frogs number\n",
        "        self.memplex_size = 20 #define as m\n",
        "        self.n_memplex = 20 #define as n\n",
        "        self.local_iteration = 10 #Iteration As local search\n",
        "        self.n_submemplex = 5\n",
        "        self.docs_vector = docs_as_tfidf(self.docs)  #Convert documents as tfidf values\n",
        "        self.n_docs = len(self.docs)\n",
        "        self.labels = labels\n",
        "\n",
        "\n",
        "     def create_memplexes(self,population,n_memplex):#ّFrogs are distributed fairly in the memplexes\n",
        "             population = sorted(population.frogs, key=lambda frog: frog.value)\n",
        "             memplexes = []\n",
        "             for i in range(n_memplex):\n",
        "                 memplex = Memplex()\n",
        "                 memplexes.append(memplex)\n",
        "             for i in range(self.n_population):\n",
        "                 memplexes[i % n_memplex].frogs.append(population[i])\n",
        "             return memplexes\n",
        "\n",
        "     def plot_frog(self, frog):\n",
        "        lsa = TruncatedSVD(n_components=2)\n",
        "        lsa_matrix = lsa.fit_transform(self.docs_vector)\n",
        "        labels = frog.answer\n",
        "        unique_labels, category_sizes = np.unique(labels, return_counts=True)\n",
        "        true_k = unique_labels.shape[0]\n",
        "        lsa = TruncatedSVD(n_components=2)\n",
        "        plt.figure(figsize=(10, 8))\n",
        "        plt.scatter(lsa_matrix[:, 0], lsa_matrix[:, 1], c=list(labels), cmap='viridis')\n",
        "\n",
        "     def evaluation(self ,frog) :\n",
        "          v = ()\n",
        "          for i in frog.answer:\n",
        "            v.append(0)\n",
        "          homogeneity_score = metrics.homogeneity_score(self.labels, v)\n",
        "          completeness_score = metrics.completeness_score(self.labels, v)\n",
        "          v_measure_score = metrics.v_measure_score(self.labels, v)\n",
        "          accuracy_score = metrics.accuracy_score(self.labels, v)\n",
        "          print(\"homogeneity_score: \" , homogeneity_score)\n",
        "          print(\"completeness_score: \", completeness_score)\n",
        "          print(\"v_measure_score: \" , v_measure_score)\n",
        "          print(\"accuracy_score: \" , accuracy_score)\n",
        "\n",
        "\n",
        "\n",
        "     def search(self):\n",
        "        population = Population(self.n_clusters, self.n_population, self.n_docs, self.docs_vector)\n",
        "        for i in range(self.max_iteration):\n",
        "           memplexes = self.create_memplexes(population,self.n_memplex)\n",
        "           population.clear_frogs()\n",
        "           for j in range(self.n_memplex):\n",
        "               submemplex = Submemplex(memplexes[j],self.n_submemplex,self.memplex_size)\n",
        "               memplexes[j].frogs_to_remove(submemplex)\n",
        "               print(i,j,len(memplexes[j].frogs))\n",
        "               for k in range(self.local_iteration):\n",
        "                    lfrog_best = submemplex.best()\n",
        "                    lfrog_worst = submemplex.worst()\n",
        "                    frog_out = lfrog_worst.cross_over(lfrog_best, self.docs_vector, self.n_clusters)\n",
        "                    if (lfrog_worst.value < frog_out.value ):\n",
        "                         submemplex.frogs.remove(lfrog_worst)\n",
        "                         submemplex.frogs.append(frog_out)\n",
        "                    else:\n",
        "                         gfrog_best = population.global_best(memplexes)\n",
        "                         frog_out = gfrog_best.cross_over(lfrog_worst, self.docs_vector, self.n_clusters)\n",
        "                         if (lfrog_worst.value<frog_out.value):\n",
        "                                      submemplex.frogs.remove(lfrog_worst)\n",
        "                                      submemplex.frogs.append(frog_out)\n",
        "                         else:\n",
        "                                      frog_out = gfrog_best.mutation(self.docs_vector,self.n_clusters)\n",
        "                                      submemplex.frogs.remove(lfrog_worst)\n",
        "                                      submemplex.frogs.append(frog_out)\n",
        "               memplexes[j].add_frogs(submemplex)\n",
        "           gfrog_best = population.global_best(memplexes)\n",
        "           print(gfrog_best.answer)\n",
        "           print(gfrog_best.value)\n",
        "           population.shufeling(memplexes)\n",
        "        return gfrog_best"
      ]
    },
    {
      "cell_type": "markdown",
      "metadata": {
        "id": "OpEeCd18adyS"
      },
      "source": [
        "# Test code"
      ]
    },
    {
      "cell_type": "code",
      "source": [],
      "metadata": {
        "id": "4AYXGVWHJpY6"
      },
      "execution_count": 10,
      "outputs": []
    },
    {
      "cell_type": "code",
      "execution_count": 18,
      "metadata": {
        "colab": {
          "base_uri": "https://localhost:8080/",
          "height": 1000
        },
        "id": "L5EREHXgMs-B",
        "outputId": "5fb1f02c-bcaa-4c0a-fa91-1ac4286428ff"
      },
      "outputs": [
        {
          "output_type": "stream",
          "name": "stdout",
          "text": [
            "1434\n",
            "0 0.08629575702631667\n",
            "1 0.08936286363009664\n",
            "2 0.08072249057157088\n",
            "3 0.07939348251848741\n",
            "4 0.08666881674369355\n",
            "5 0.08959764277487853\n",
            "6 0.08437784237118223\n",
            "7 0.09728783152610694\n",
            "8 0.08552923006796641\n",
            "9 0.08106393794504582\n",
            "10 0.08712868856828372\n",
            "11 0.08101946857641386\n",
            "12 0.08249784848797793\n",
            "13 0.08392064921088406\n",
            "14 0.08147778858558766\n",
            "15 0.08549668746641521\n",
            "16 0.0820723864041917\n",
            "17 0.0849473571726039\n",
            "18 0.0861904567168933\n",
            "19 0.07736254963577321\n",
            "20 0.08961081306303934\n",
            "21 0.0815197851849381\n",
            "22 0.08271075665117061\n",
            "23 0.08093915781146113\n",
            "24 0.0886908900003823\n",
            "25 0.08238341377054968\n",
            "26 0.08414157440146024\n",
            "27 0.07901013589857368\n",
            "28 0.0861577216148133\n",
            "29 0.08284511240579491\n",
            "30 0.08445073437177916\n",
            "31 0.08947616656411626\n",
            "32 0.0797813945486306\n",
            "33 0.07942953723639777\n",
            "34 0.08233604631461264\n",
            "35 0.07529097927510589\n",
            "36 0.08692339096928843\n",
            "37 0.08459221587277883\n",
            "38 0.080611661468769\n",
            "39 0.08263084487563385\n",
            "40 0.08217729078081301\n",
            "41 0.08565078472017697\n",
            "42 0.08104438890834982\n",
            "43 0.08167589630076401\n",
            "44 0.0843377978218251\n",
            "45 0.08607123975762808\n",
            "46 0.0847382274479309\n",
            "47 0.08379276167897215\n",
            "48 0.08054738414808335\n",
            "49 0.07951385346255659\n",
            "50 0.08532448858581058\n",
            "51 0.08438820585773023\n",
            "52 0.08144060071809757\n",
            "53 0.07928687163880967\n",
            "54 0.08273843249001564\n",
            "55 0.07906637230500035\n",
            "56 0.08066407122409819\n",
            "57 0.08507158449015062\n",
            "58 0.08925321390056408\n",
            "59 0.07946242240696884\n",
            "60 0.08337682018565275\n",
            "61 0.08962102552471506\n",
            "62 0.08283725384461893\n",
            "63 0.08658112561182699\n",
            "64 0.08032156343288266\n",
            "65 0.08236901918751503\n",
            "66 0.08339916499706665\n",
            "67 0.08453968972327329\n",
            "68 0.08052947760830732\n",
            "69 0.09247414045939596\n",
            "70 0.09282926430109958\n",
            "71 0.08029256404077445\n",
            "72 0.08387477966629855\n",
            "73 0.0777000120919022\n",
            "74 0.0834958019094862\n",
            "75 0.08828234573156986\n",
            "76 0.08084601778510235\n",
            "77 0.08381639109566086\n",
            "78 0.08399352950422474\n",
            "79 0.09033560425311417\n",
            "80 0.08206583506287256\n",
            "81 0.08523074742459998\n",
            "82 0.08693567832011241\n",
            "83 0.0875919866707856\n",
            "84 0.08410071370737315\n",
            "85 0.08783895863086533\n",
            "86 0.08685609813617129\n",
            "87 0.08169835001893573\n",
            "88 0.08680832389821767\n",
            "89 0.08226230958146581\n",
            "90 0.08187209686719911\n",
            "91 0.07616471873917299\n",
            "92 0.08449268746506432\n",
            "93 0.08365338330203392\n",
            "94 0.08403220616476763\n",
            "95 0.08552107166789906\n",
            "96 0.08266243471146606\n",
            "97 0.08285369100776538\n",
            "98 0.08240139384778612\n",
            "99 0.08864954492420198\n",
            "100 0.08274778781670994\n",
            "101 0.0819449102944451\n",
            "102 0.08578864256200142\n",
            "103 0.08301674070330965\n",
            "104 0.07742755497054506\n",
            "105 0.08387100774381318\n",
            "106 0.08411101915957826\n",
            "107 0.08083379453381083\n",
            "108 0.08862479416101236\n",
            "109 0.08149535886330861\n",
            "110 0.08362639959287922\n",
            "111 0.07976709391039566\n",
            "112 0.08168967192043186\n",
            "113 0.07972960368975625\n",
            "114 0.08310899921655891\n",
            "115 0.08518678075289013\n",
            "116 0.0830249994788007\n",
            "117 0.08346571998388432\n",
            "118 0.08358689104077852\n",
            "119 0.08120557863095387\n",
            "120 0.09036787709604495\n",
            "121 0.0806928738697988\n",
            "122 0.08043213866536404\n",
            "123 0.07864196509073296\n",
            "124 0.08087468199360273\n",
            "125 0.08460896482622747\n",
            "126 0.08446092306750376\n",
            "127 0.08436381966015709\n",
            "128 0.08827653064976493\n",
            "129 0.08307290338500764\n",
            "130 0.08096373969943382\n",
            "131 0.08503579059333446\n",
            "132 0.0828432085875273\n",
            "133 0.08429122991906117\n",
            "134 0.08386895367053182\n",
            "135 0.08654165950845615\n",
            "136 0.08634708770139997\n",
            "137 0.08203395388568153\n",
            "138 0.08506901094349244\n",
            "139 0.08046346171454107\n",
            "140 0.08261935158210248\n",
            "141 0.07740305729351313\n",
            "142 0.08928117781796457\n",
            "143 0.08777019362199452\n",
            "144 0.08080376921493036\n",
            "145 0.08027302746027865\n",
            "146 0.08945391431671333\n",
            "147 0.08805690871613318\n",
            "148 0.08735162668828955\n",
            "149 0.08249801373379631\n",
            "150 0.08860135393049041\n",
            "151 0.08011320087860604\n",
            "152 0.09079146436403958\n",
            "153 0.08856647372155964\n",
            "154 0.08622866973233125\n",
            "155 0.08315252446046728\n",
            "156 0.08311271371967766\n",
            "157 0.08221328391624472\n",
            "158 0.08099528524591024\n",
            "159 0.08164982975033985\n",
            "160 0.08555136559852362\n",
            "161 0.08427096886799995\n",
            "162 0.08356592341694156\n",
            "163 0.0862053676019865\n",
            "164 0.08218596020471361\n",
            "165 0.08388903340998402\n",
            "166 0.08968955493981039\n",
            "167 0.08366720937372725\n",
            "168 0.07986185235115269\n",
            "169 0.08254133409248662\n",
            "170 0.0826024852429812\n",
            "171 0.08916424235888058\n",
            "172 0.08025594522120082\n",
            "173 0.08095837102418207\n",
            "174 0.08024327257271674\n",
            "175 0.087729598544598\n",
            "176 0.0840533332933993\n",
            "177 0.08517924834073984\n",
            "178 0.0796606451115479\n",
            "179 0.08146608105652141\n",
            "180 0.08717397465424225\n",
            "181 0.08124014596733434\n",
            "182 0.08419409503137827\n",
            "183 0.09332140237772837\n",
            "184 0.08690968221726565\n",
            "185 0.08595253148451135\n",
            "186 0.08210873654771066\n",
            "187 0.08393232822365525\n",
            "188 0.08076918608402629\n",
            "189 0.08654850029030255\n",
            "190 0.08351268432088699\n",
            "191 0.08611517374060682\n",
            "192 0.07862532140402231\n",
            "193 0.08283004724351657\n",
            "194 0.07866154982458524\n",
            "195 0.08337243662972425\n",
            "196 0.0841951525445511\n",
            "197 0.08445361616208617\n",
            "198 0.07876866251905788\n",
            "199 0.08529540482811586\n",
            "200 0.07766617968378538\n",
            "201 0.0819126726520329\n",
            "202 0.08360132166980537\n",
            "203 0.08032331431650368\n",
            "204 0.08089933012428754\n",
            "205 0.08633413576994314\n",
            "206 0.08054827876854549\n",
            "207 0.08095520283856018\n",
            "208 0.0811835685185656\n",
            "209 0.07974583544210334\n",
            "210 0.08141169379618154\n",
            "211 0.0806293103526119\n",
            "212 0.08252308655223847\n",
            "213 0.08216281129309154\n",
            "214 0.08646622833859959\n",
            "215 0.08756611590188512\n",
            "216 0.08402026675789098\n",
            "217 0.08077252203862137\n"
          ]
        },
        {
          "output_type": "error",
          "ename": "KeyboardInterrupt",
          "evalue": "ignored",
          "traceback": [
            "\u001b[0;31m---------------------------------------------------------------------------\u001b[0m",
            "\u001b[0;31mKeyboardInterrupt\u001b[0m                         Traceback (most recent call last)",
            "\u001b[0;32m<ipython-input-18-5aae10db15ec>\u001b[0m in \u001b[0;36m<cell line: 2>\u001b[0;34m()\u001b[0m\n\u001b[1;32m      1\u001b[0m \u001b[0msfla\u001b[0m \u001b[0;34m=\u001b[0m \u001b[0mSFLA\u001b[0m\u001b[0;34m(\u001b[0m\u001b[0;36m5\u001b[0m\u001b[0;34m,\u001b[0m\u001b[0;36m100\u001b[0m\u001b[0;34m,\u001b[0m\u001b[0mtexts\u001b[0m\u001b[0;34m,\u001b[0m\u001b[0mlabels\u001b[0m\u001b[0;34m)\u001b[0m\u001b[0;34m\u001b[0m\u001b[0;34m\u001b[0m\u001b[0m\n\u001b[0;32m----> 2\u001b[0;31m \u001b[0mbest_frog\u001b[0m \u001b[0;34m=\u001b[0m \u001b[0msfla\u001b[0m\u001b[0;34m.\u001b[0m\u001b[0msearch\u001b[0m\u001b[0;34m(\u001b[0m\u001b[0;34m)\u001b[0m\u001b[0;34m\u001b[0m\u001b[0;34m\u001b[0m\u001b[0m\n\u001b[0m",
            "\u001b[0;32m<ipython-input-10-4853ae6dd2e8>\u001b[0m in \u001b[0;36msearch\u001b[0;34m(self)\u001b[0m\n\u001b[1;32m     50\u001b[0m \u001b[0;34m\u001b[0m\u001b[0m\n\u001b[1;32m     51\u001b[0m      \u001b[0;32mdef\u001b[0m \u001b[0msearch\u001b[0m\u001b[0;34m(\u001b[0m\u001b[0mself\u001b[0m\u001b[0;34m)\u001b[0m\u001b[0;34m:\u001b[0m\u001b[0;34m\u001b[0m\u001b[0;34m\u001b[0m\u001b[0m\n\u001b[0;32m---> 52\u001b[0;31m         \u001b[0mpopulation\u001b[0m \u001b[0;34m=\u001b[0m \u001b[0mPopulation\u001b[0m\u001b[0;34m(\u001b[0m\u001b[0mself\u001b[0m\u001b[0;34m.\u001b[0m\u001b[0mn_clusters\u001b[0m\u001b[0;34m,\u001b[0m \u001b[0mself\u001b[0m\u001b[0;34m.\u001b[0m\u001b[0mn_population\u001b[0m\u001b[0;34m,\u001b[0m \u001b[0mself\u001b[0m\u001b[0;34m.\u001b[0m\u001b[0mn_docs\u001b[0m\u001b[0;34m,\u001b[0m \u001b[0mself\u001b[0m\u001b[0;34m.\u001b[0m\u001b[0mdocs_vector\u001b[0m\u001b[0;34m)\u001b[0m\u001b[0;34m\u001b[0m\u001b[0;34m\u001b[0m\u001b[0m\n\u001b[0m\u001b[1;32m     53\u001b[0m         \u001b[0;32mfor\u001b[0m \u001b[0mi\u001b[0m \u001b[0;32min\u001b[0m \u001b[0mrange\u001b[0m\u001b[0;34m(\u001b[0m\u001b[0mself\u001b[0m\u001b[0;34m.\u001b[0m\u001b[0mmax_iteration\u001b[0m\u001b[0;34m)\u001b[0m\u001b[0;34m:\u001b[0m\u001b[0;34m\u001b[0m\u001b[0;34m\u001b[0m\u001b[0m\n\u001b[1;32m     54\u001b[0m            \u001b[0mmemplexes\u001b[0m \u001b[0;34m=\u001b[0m \u001b[0mself\u001b[0m\u001b[0;34m.\u001b[0m\u001b[0mcreate_memplexes\u001b[0m\u001b[0;34m(\u001b[0m\u001b[0mpopulation\u001b[0m\u001b[0;34m,\u001b[0m\u001b[0mself\u001b[0m\u001b[0;34m.\u001b[0m\u001b[0mn_memplex\u001b[0m\u001b[0;34m)\u001b[0m\u001b[0;34m\u001b[0m\u001b[0;34m\u001b[0m\u001b[0m\n",
            "\u001b[0;32m<ipython-input-9-5cb3512ba420>\u001b[0m in \u001b[0;36m__init__\u001b[0;34m(self, n_clusters, n_population, n_docs, docs_vector)\u001b[0m\n\u001b[1;32m      5\u001b[0m         \u001b[0mi\u001b[0m\u001b[0;34m=\u001b[0m\u001b[0;36m0\u001b[0m\u001b[0;34m\u001b[0m\u001b[0;34m\u001b[0m\u001b[0m\n\u001b[1;32m      6\u001b[0m         \u001b[0;32mfor\u001b[0m \u001b[0manswer\u001b[0m \u001b[0;32min\u001b[0m \u001b[0manswers\u001b[0m\u001b[0;34m:\u001b[0m\u001b[0;34m\u001b[0m\u001b[0;34m\u001b[0m\u001b[0m\n\u001b[0;32m----> 7\u001b[0;31m            \u001b[0mfrog\u001b[0m \u001b[0;34m=\u001b[0m \u001b[0mFrog\u001b[0m\u001b[0;34m(\u001b[0m\u001b[0mtuple\u001b[0m\u001b[0;34m(\u001b[0m\u001b[0manswer\u001b[0m\u001b[0;34m)\u001b[0m\u001b[0;34m,\u001b[0m\u001b[0mdocs_vector\u001b[0m\u001b[0;34m,\u001b[0m\u001b[0mn_clusters\u001b[0m\u001b[0;34m)\u001b[0m\u001b[0;34m\u001b[0m\u001b[0;34m\u001b[0m\u001b[0m\n\u001b[0m\u001b[1;32m      8\u001b[0m            \u001b[0mself\u001b[0m\u001b[0;34m.\u001b[0m\u001b[0mfrogs\u001b[0m\u001b[0;34m.\u001b[0m\u001b[0mappend\u001b[0m\u001b[0;34m(\u001b[0m\u001b[0mfrog\u001b[0m\u001b[0;34m)\u001b[0m\u001b[0;34m\u001b[0m\u001b[0;34m\u001b[0m\u001b[0m\n\u001b[1;32m      9\u001b[0m            \u001b[0mprint\u001b[0m\u001b[0;34m(\u001b[0m\u001b[0mi\u001b[0m\u001b[0;34m,\u001b[0m\u001b[0mfrog\u001b[0m\u001b[0;34m.\u001b[0m\u001b[0mvalue\u001b[0m\u001b[0;34m)\u001b[0m\u001b[0;34m\u001b[0m\u001b[0;34m\u001b[0m\u001b[0m\n",
            "\u001b[0;32m<ipython-input-6-40a05dcd7d68>\u001b[0m in \u001b[0;36m__init__\u001b[0;34m(self, answer, docs_vector, n_clusters)\u001b[0m\n\u001b[1;32m      2\u001b[0m      \u001b[0;32mdef\u001b[0m \u001b[0m__init__\u001b[0m\u001b[0;34m(\u001b[0m\u001b[0mself\u001b[0m\u001b[0;34m,\u001b[0m\u001b[0manswer\u001b[0m\u001b[0;34m,\u001b[0m\u001b[0mdocs_vector\u001b[0m\u001b[0;34m,\u001b[0m\u001b[0mn_clusters\u001b[0m\u001b[0;34m)\u001b[0m\u001b[0;34m:\u001b[0m\u001b[0;34m\u001b[0m\u001b[0;34m\u001b[0m\u001b[0m\n\u001b[1;32m      3\u001b[0m         \u001b[0mself\u001b[0m\u001b[0;34m.\u001b[0m\u001b[0manswer\u001b[0m \u001b[0;34m=\u001b[0m \u001b[0manswer\u001b[0m\u001b[0;34m\u001b[0m\u001b[0;34m\u001b[0m\u001b[0m\n\u001b[0;32m----> 4\u001b[0;31m         \u001b[0mself\u001b[0m\u001b[0;34m.\u001b[0m\u001b[0mvalue\u001b[0m \u001b[0;34m=\u001b[0m \u001b[0mself\u001b[0m\u001b[0;34m.\u001b[0m\u001b[0mfitness\u001b[0m\u001b[0;34m(\u001b[0m\u001b[0mdocs_vector\u001b[0m\u001b[0;34m,\u001b[0m\u001b[0mn_clusters\u001b[0m\u001b[0;34m)\u001b[0m\u001b[0;34m\u001b[0m\u001b[0;34m\u001b[0m\u001b[0m\n\u001b[0m\u001b[1;32m      5\u001b[0m \u001b[0;34m\u001b[0m\u001b[0m\n\u001b[1;32m      6\u001b[0m \u001b[0;34m\u001b[0m\u001b[0m\n",
            "\u001b[0;32m<ipython-input-6-40a05dcd7d68>\u001b[0m in \u001b[0;36mfitness\u001b[0;34m(self, docs_vector, n_clusters)\u001b[0m\n\u001b[1;32m     41\u001b[0m                   \u001b[0mclusters\u001b[0m\u001b[0;34m[\u001b[0m\u001b[0mi\u001b[0m\u001b[0;34m]\u001b[0m\u001b[0;34m.\u001b[0m\u001b[0mget_doc_mean\u001b[0m\u001b[0;34m(\u001b[0m\u001b[0;34m)\u001b[0m\u001b[0;34m\u001b[0m\u001b[0;34m\u001b[0m\u001b[0m\n\u001b[1;32m     42\u001b[0m                )\n\u001b[0;32m---> 43\u001b[0;31m            \u001b[0mwc\u001b[0m \u001b[0;34m=\u001b[0m \u001b[0mself\u001b[0m\u001b[0;34m.\u001b[0m\u001b[0mWC\u001b[0m\u001b[0;34m(\u001b[0m\u001b[0mclusters\u001b[0m\u001b[0;34m)\u001b[0m \u001b[0;31m#Calculate similarity within clusters\u001b[0m\u001b[0;34m\u001b[0m\u001b[0;34m\u001b[0m\u001b[0m\n\u001b[0m\u001b[1;32m     44\u001b[0m            \u001b[0mbc\u001b[0m \u001b[0;34m=\u001b[0m \u001b[0mself\u001b[0m\u001b[0;34m.\u001b[0m\u001b[0mBC\u001b[0m\u001b[0;34m(\u001b[0m\u001b[0mdoc_means\u001b[0m\u001b[0;34m)\u001b[0m \u001b[0;31m#Calculate similarity between clusters\u001b[0m\u001b[0;34m\u001b[0m\u001b[0;34m\u001b[0m\u001b[0m\n\u001b[1;32m     45\u001b[0m            \u001b[0mfitness\u001b[0m \u001b[0;34m=\u001b[0m \u001b[0mwc\u001b[0m\u001b[0;34m/\u001b[0m\u001b[0mbc\u001b[0m\u001b[0;34m\u001b[0m\u001b[0;34m\u001b[0m\u001b[0m\n",
            "\u001b[0;32m<ipython-input-6-40a05dcd7d68>\u001b[0m in \u001b[0;36mWC\u001b[0;34m(self, clusters)\u001b[0m\n\u001b[1;32m     20\u001b[0m         \u001b[0mWC\u001b[0m \u001b[0;34m=\u001b[0m \u001b[0;36m0\u001b[0m\u001b[0;34m\u001b[0m\u001b[0;34m\u001b[0m\u001b[0m\n\u001b[1;32m     21\u001b[0m         \u001b[0;32mfor\u001b[0m \u001b[0mcluster\u001b[0m \u001b[0;32min\u001b[0m \u001b[0mclusters\u001b[0m\u001b[0;34m:\u001b[0m\u001b[0;34m\u001b[0m\u001b[0;34m\u001b[0m\u001b[0m\n\u001b[0;32m---> 22\u001b[0;31m             \u001b[0mWC\u001b[0m \u001b[0;34m+=\u001b[0m \u001b[0mcluster\u001b[0m\u001b[0;34m.\u001b[0m\u001b[0mSSE\u001b[0m\u001b[0;34m(\u001b[0m\u001b[0;34m)\u001b[0m\u001b[0;34m\u001b[0m\u001b[0;34m\u001b[0m\u001b[0m\n\u001b[0m\u001b[1;32m     23\u001b[0m         \u001b[0;32mreturn\u001b[0m \u001b[0mWC\u001b[0m\u001b[0;34m\u001b[0m\u001b[0;34m\u001b[0m\u001b[0m\n\u001b[1;32m     24\u001b[0m \u001b[0;34m\u001b[0m\u001b[0m\n",
            "\u001b[0;32m<ipython-input-5-2d1f7de19b0b>\u001b[0m in \u001b[0;36mSSE\u001b[0;34m(self)\u001b[0m\n\u001b[1;32m     13\u001b[0m          \u001b[0msse\u001b[0m\u001b[0;34m=\u001b[0m\u001b[0;36m0\u001b[0m\u001b[0;34m\u001b[0m\u001b[0;34m\u001b[0m\u001b[0m\n\u001b[1;32m     14\u001b[0m          \u001b[0;32mfor\u001b[0m \u001b[0mdoc\u001b[0m \u001b[0;32min\u001b[0m \u001b[0mself\u001b[0m\u001b[0;34m.\u001b[0m\u001b[0mdocuments\u001b[0m\u001b[0;34m:\u001b[0m\u001b[0;34m\u001b[0m\u001b[0;34m\u001b[0m\u001b[0m\n\u001b[0;32m---> 15\u001b[0;31m              \u001b[0msse\u001b[0m \u001b[0;34m+=\u001b[0m \u001b[0mcosin_sim\u001b[0m\u001b[0;34m(\u001b[0m\u001b[0mdoc\u001b[0m\u001b[0;34m,\u001b[0m\u001b[0mdoc_mean\u001b[0m\u001b[0;34m)\u001b[0m\u001b[0;34m**\u001b[0m\u001b[0;36m2\u001b[0m\u001b[0;34m\u001b[0m\u001b[0;34m\u001b[0m\u001b[0m\n\u001b[0m\u001b[1;32m     16\u001b[0m          \u001b[0;32mtry\u001b[0m\u001b[0;34m:\u001b[0m\u001b[0;34m\u001b[0m\u001b[0;34m\u001b[0m\u001b[0m\n\u001b[1;32m     17\u001b[0m              \u001b[0msse\u001b[0m \u001b[0;34m=\u001b[0m \u001b[0msse\u001b[0m\u001b[0;34m/\u001b[0m\u001b[0msize\u001b[0m\u001b[0;34m\u001b[0m\u001b[0;34m\u001b[0m\u001b[0m\n",
            "\u001b[0;32m<ipython-input-17-a4ffc103456b>\u001b[0m in \u001b[0;36mcosin_sim\u001b[0;34m(a, b)\u001b[0m\n\u001b[1;32m      1\u001b[0m \u001b[0;32mdef\u001b[0m \u001b[0mcosin_sim\u001b[0m\u001b[0;34m(\u001b[0m\u001b[0ma\u001b[0m\u001b[0;34m,\u001b[0m\u001b[0mb\u001b[0m\u001b[0;34m)\u001b[0m\u001b[0;34m:\u001b[0m\u001b[0;34m\u001b[0m\u001b[0;34m\u001b[0m\u001b[0m\n\u001b[0;32m----> 2\u001b[0;31m    \u001b[0;32mreturn\u001b[0m \u001b[0mcosine_similarity\u001b[0m\u001b[0;34m(\u001b[0m\u001b[0;34m[\u001b[0m\u001b[0ma\u001b[0m\u001b[0;34m]\u001b[0m\u001b[0;34m,\u001b[0m \u001b[0;34m[\u001b[0m\u001b[0mb\u001b[0m\u001b[0;34m]\u001b[0m\u001b[0;34m)\u001b[0m\u001b[0;34m[\u001b[0m\u001b[0;36m0\u001b[0m\u001b[0;34m]\u001b[0m\u001b[0;34m[\u001b[0m\u001b[0;36m0\u001b[0m\u001b[0;34m]\u001b[0m\u001b[0;34m\u001b[0m\u001b[0;34m\u001b[0m\u001b[0m\n\u001b[0m",
            "\u001b[0;32m/usr/local/lib/python3.10/dist-packages/sklearn/metrics/pairwise.py\u001b[0m in \u001b[0;36mcosine_similarity\u001b[0;34m(X, Y, dense_output)\u001b[0m\n\u001b[1;32m   1393\u001b[0m     \u001b[0mX\u001b[0m\u001b[0;34m,\u001b[0m \u001b[0mY\u001b[0m \u001b[0;34m=\u001b[0m \u001b[0mcheck_pairwise_arrays\u001b[0m\u001b[0;34m(\u001b[0m\u001b[0mX\u001b[0m\u001b[0;34m,\u001b[0m \u001b[0mY\u001b[0m\u001b[0;34m)\u001b[0m\u001b[0;34m\u001b[0m\u001b[0;34m\u001b[0m\u001b[0m\n\u001b[1;32m   1394\u001b[0m \u001b[0;34m\u001b[0m\u001b[0m\n\u001b[0;32m-> 1395\u001b[0;31m     \u001b[0mX_normalized\u001b[0m \u001b[0;34m=\u001b[0m \u001b[0mnormalize\u001b[0m\u001b[0;34m(\u001b[0m\u001b[0mX\u001b[0m\u001b[0;34m,\u001b[0m \u001b[0mcopy\u001b[0m\u001b[0;34m=\u001b[0m\u001b[0;32mTrue\u001b[0m\u001b[0;34m)\u001b[0m\u001b[0;34m\u001b[0m\u001b[0;34m\u001b[0m\u001b[0m\n\u001b[0m\u001b[1;32m   1396\u001b[0m     \u001b[0;32mif\u001b[0m \u001b[0mX\u001b[0m \u001b[0;32mis\u001b[0m \u001b[0mY\u001b[0m\u001b[0;34m:\u001b[0m\u001b[0;34m\u001b[0m\u001b[0;34m\u001b[0m\u001b[0m\n\u001b[1;32m   1397\u001b[0m         \u001b[0mY_normalized\u001b[0m \u001b[0;34m=\u001b[0m \u001b[0mX_normalized\u001b[0m\u001b[0;34m\u001b[0m\u001b[0;34m\u001b[0m\u001b[0m\n",
            "\u001b[0;32m/usr/local/lib/python3.10/dist-packages/sklearn/preprocessing/_data.py\u001b[0m in \u001b[0;36mnormalize\u001b[0;34m(X, norm, axis, copy, return_norm)\u001b[0m\n\u001b[1;32m   1846\u001b[0m             \u001b[0mnorms\u001b[0m \u001b[0;34m=\u001b[0m \u001b[0mnp\u001b[0m\u001b[0;34m.\u001b[0m\u001b[0mabs\u001b[0m\u001b[0;34m(\u001b[0m\u001b[0mX\u001b[0m\u001b[0;34m)\u001b[0m\u001b[0;34m.\u001b[0m\u001b[0msum\u001b[0m\u001b[0;34m(\u001b[0m\u001b[0maxis\u001b[0m\u001b[0;34m=\u001b[0m\u001b[0;36m1\u001b[0m\u001b[0;34m)\u001b[0m\u001b[0;34m\u001b[0m\u001b[0;34m\u001b[0m\u001b[0m\n\u001b[1;32m   1847\u001b[0m         \u001b[0;32melif\u001b[0m \u001b[0mnorm\u001b[0m \u001b[0;34m==\u001b[0m \u001b[0;34m\"l2\"\u001b[0m\u001b[0;34m:\u001b[0m\u001b[0;34m\u001b[0m\u001b[0;34m\u001b[0m\u001b[0m\n\u001b[0;32m-> 1848\u001b[0;31m             \u001b[0mnorms\u001b[0m \u001b[0;34m=\u001b[0m \u001b[0mrow_norms\u001b[0m\u001b[0;34m(\u001b[0m\u001b[0mX\u001b[0m\u001b[0;34m)\u001b[0m\u001b[0;34m\u001b[0m\u001b[0;34m\u001b[0m\u001b[0m\n\u001b[0m\u001b[1;32m   1849\u001b[0m         \u001b[0;32melif\u001b[0m \u001b[0mnorm\u001b[0m \u001b[0;34m==\u001b[0m \u001b[0;34m\"max\"\u001b[0m\u001b[0;34m:\u001b[0m\u001b[0;34m\u001b[0m\u001b[0;34m\u001b[0m\u001b[0m\n\u001b[1;32m   1850\u001b[0m             \u001b[0mnorms\u001b[0m \u001b[0;34m=\u001b[0m \u001b[0mnp\u001b[0m\u001b[0;34m.\u001b[0m\u001b[0mmax\u001b[0m\u001b[0;34m(\u001b[0m\u001b[0mabs\u001b[0m\u001b[0;34m(\u001b[0m\u001b[0mX\u001b[0m\u001b[0;34m)\u001b[0m\u001b[0;34m,\u001b[0m \u001b[0maxis\u001b[0m\u001b[0;34m=\u001b[0m\u001b[0;36m1\u001b[0m\u001b[0;34m)\u001b[0m\u001b[0;34m\u001b[0m\u001b[0;34m\u001b[0m\u001b[0m\n",
            "\u001b[0;32m/usr/local/lib/python3.10/dist-packages/sklearn/utils/extmath.py\u001b[0m in \u001b[0;36mrow_norms\u001b[0;34m(X, squared)\u001b[0m\n\u001b[1;32m     75\u001b[0m         \u001b[0mnorms\u001b[0m \u001b[0;34m=\u001b[0m \u001b[0mcsr_row_norms\u001b[0m\u001b[0;34m(\u001b[0m\u001b[0mX\u001b[0m\u001b[0;34m)\u001b[0m\u001b[0;34m\u001b[0m\u001b[0;34m\u001b[0m\u001b[0m\n\u001b[1;32m     76\u001b[0m     \u001b[0;32melse\u001b[0m\u001b[0;34m:\u001b[0m\u001b[0;34m\u001b[0m\u001b[0;34m\u001b[0m\u001b[0m\n\u001b[0;32m---> 77\u001b[0;31m         \u001b[0mnorms\u001b[0m \u001b[0;34m=\u001b[0m \u001b[0mnp\u001b[0m\u001b[0;34m.\u001b[0m\u001b[0meinsum\u001b[0m\u001b[0;34m(\u001b[0m\u001b[0;34m\"ij,ij->i\"\u001b[0m\u001b[0;34m,\u001b[0m \u001b[0mX\u001b[0m\u001b[0;34m,\u001b[0m \u001b[0mX\u001b[0m\u001b[0;34m)\u001b[0m\u001b[0;34m\u001b[0m\u001b[0;34m\u001b[0m\u001b[0m\n\u001b[0m\u001b[1;32m     78\u001b[0m \u001b[0;34m\u001b[0m\u001b[0m\n\u001b[1;32m     79\u001b[0m     \u001b[0;32mif\u001b[0m \u001b[0;32mnot\u001b[0m \u001b[0msquared\u001b[0m\u001b[0;34m:\u001b[0m\u001b[0;34m\u001b[0m\u001b[0;34m\u001b[0m\u001b[0m\n",
            "\u001b[0;32m/usr/local/lib/python3.10/dist-packages/numpy/core/overrides.py\u001b[0m in \u001b[0;36meinsum\u001b[0;34m(*args, **kwargs)\u001b[0m\n",
            "\u001b[0;32m/usr/local/lib/python3.10/dist-packages/numpy/core/einsumfunc.py\u001b[0m in \u001b[0;36meinsum\u001b[0;34m(out, optimize, *operands, **kwargs)\u001b[0m\n\u001b[1;32m   1369\u001b[0m         \u001b[0;32mif\u001b[0m \u001b[0mspecified_out\u001b[0m\u001b[0;34m:\u001b[0m\u001b[0;34m\u001b[0m\u001b[0;34m\u001b[0m\u001b[0m\n\u001b[1;32m   1370\u001b[0m             \u001b[0mkwargs\u001b[0m\u001b[0;34m[\u001b[0m\u001b[0;34m'out'\u001b[0m\u001b[0;34m]\u001b[0m \u001b[0;34m=\u001b[0m \u001b[0mout\u001b[0m\u001b[0;34m\u001b[0m\u001b[0;34m\u001b[0m\u001b[0m\n\u001b[0;32m-> 1371\u001b[0;31m         \u001b[0;32mreturn\u001b[0m \u001b[0mc_einsum\u001b[0m\u001b[0;34m(\u001b[0m\u001b[0;34m*\u001b[0m\u001b[0moperands\u001b[0m\u001b[0;34m,\u001b[0m \u001b[0;34m**\u001b[0m\u001b[0mkwargs\u001b[0m\u001b[0;34m)\u001b[0m\u001b[0;34m\u001b[0m\u001b[0;34m\u001b[0m\u001b[0m\n\u001b[0m\u001b[1;32m   1372\u001b[0m \u001b[0;34m\u001b[0m\u001b[0m\n\u001b[1;32m   1373\u001b[0m     \u001b[0;31m# Check the kwargs to avoid a more cryptic error later, without having to\u001b[0m\u001b[0;34m\u001b[0m\u001b[0;34m\u001b[0m\u001b[0m\n",
            "\u001b[0;31mKeyboardInterrupt\u001b[0m: "
          ]
        }
      ],
      "source": [
        "sfla = SFLA(5,100,texts,labels)\n",
        "best_frog = sfla.search()"
      ]
    },
    {
      "cell_type": "code",
      "execution_count": null,
      "metadata": {
        "id": "zczpBo6avXuu"
      },
      "outputs": [],
      "source": [
        "sfla.evaluation(best_frog)"
      ]
    },
    {
      "cell_type": "code",
      "execution_count": null,
      "metadata": {
        "id": "-RwBdPlc_XDH"
      },
      "outputs": [],
      "source": [
        "f = {\"df\":5,\"fsd\":3}\n",
        "print(\"df\" in f.keys())"
      ]
    }
  ],
  "metadata": {
    "colab": {
      "provenance": [],
      "collapsed_sections": [
        "PpYLLKWhZT3g",
        "mW2Sp0yBaKyT"
      ],
      "toc_visible": true,
      "authorship_tag": "ABX9TyPmowMqmqUNF5eZRBS0mscT",
      "include_colab_link": true
    },
    "kernelspec": {
      "display_name": "Python 3",
      "name": "python3"
    },
    "language_info": {
      "name": "python"
    }
  },
  "nbformat": 4,
  "nbformat_minor": 0
}