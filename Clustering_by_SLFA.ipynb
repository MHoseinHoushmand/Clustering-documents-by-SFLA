{
  "cells": [
    {
      "cell_type": "markdown",
      "metadata": {
        "id": "view-in-github",
        "colab_type": "text"
      },
      "source": [
        "<a href=\"https://colab.research.google.com/github/MHoseinHoushmand/Clustering_by_SLFA/blob/main/Clustering_by_SLFA.ipynb\" target=\"_parent\"><img src=\"https://colab.research.google.com/assets/colab-badge.svg\" alt=\"Open In Colab\"/></a>"
      ]
    },
    {
      "cell_type": "code",
      "execution_count": null,
      "metadata": {
        "id": "ovHcWlfr8Ao9",
        "colab": {
          "base_uri": "https://localhost:8080/"
        },
        "outputId": "06588175-4d63-4fc3-d27e-d51014ed2451"
      },
      "outputs": [
        {
          "output_type": "stream",
          "name": "stdout",
          "text": [
            "3758 documents - 4 categories\n"
          ]
        }
      ],
      "source": [
        "import numpy as np\n",
        "import pdb\n",
        "from sklearn.datasets import fetch_20newsgroups\n",
        "from sklearn.feature_extraction.text import TfidfVectorizer\n",
        "from sklearn.metrics.pairwise import cosine_similarity\n",
        "from numpy.linalg import norm\n",
        "import operator\n",
        "import random"
      ]
    },
    {
      "cell_type": "code",
      "execution_count": null,
      "metadata": {
        "id": "e2J1TujL22H1"
      },
      "outputs": [],
      "source": [
        "categories = [  #Select 4 categories from fetch_20newsgroups dataset\n",
        "    \"alt.atheism\",\n",
        "    \"comp.graphics\",\n",
        "    \"sci.space\",\n",
        "    \"rec.sport.hockey\",\n",
        "]\n",
        "\n",
        "dataset = fetch_20newsgroups( #Preprocessing before using dataset\n",
        "    remove=(\"headers\", \"footers\", \"quotes\"),\n",
        "    subset=\"all\",\n",
        "    categories=categories,\n",
        "    shuffle=True,\n",
        "    random_state=42,\n",
        ")\n",
        "labels = dataset.target\n",
        "unique_labels, category_sizes = np.unique(labels, return_counts=True)\n",
        "true_k = unique_labels.shape[0]\n",
        "print(f\"{len(dataset.data)} documents - {true_k} categories\")\n",
        "print(labels)"
      ]
    },
    {
      "cell_type": "code",
      "execution_count": 1,
      "metadata": {
        "id": "ERPNfqNYATbl"
      },
      "outputs": [],
      "source": [
        "# Vectorize all document as their term frequency(tfidf score)\n",
        "def docs_as_tfidf(docs):\n",
        "  vectorizer = TfidfVectorizer(\n",
        "     max_df=0.5, #Removing terms that are used in more than 50% of articles\n",
        "     min_df=5,   #Removing terms that are not used in less than 10 of articles\n",
        "     stop_words=\"english\",\n",
        "     #  max_features=1000,\n",
        "  )\n",
        "  docs_vector = vectorizer.fit_transform(docs)\n",
        "  return docs_vector.toarray()"
      ]
    },
    {
      "cell_type": "code",
      "execution_count": 2,
      "metadata": {
        "id": "mT5WJIYfAWKq",
        "colab": {
          "base_uri": "https://localhost:8080/",
          "height": 259
        },
        "outputId": "843d8a8c-88d9-40c2-d4b0-0b9cf33ecb3e"
      },
      "outputs": [
        {
          "output_type": "error",
          "ename": "NameError",
          "evalue": "ignored",
          "traceback": [
            "\u001b[0;31m---------------------------------------------------------------------------\u001b[0m",
            "\u001b[0;31mNameError\u001b[0m                                 Traceback (most recent call last)",
            "\u001b[0;32m<ipython-input-2-c6ae21d969b4>\u001b[0m in \u001b[0;36m<cell line: 6>\u001b[0;34m()\u001b[0m\n\u001b[1;32m      4\u001b[0m \u001b[0mmax_iteration\u001b[0m \u001b[0;34m=\u001b[0m \u001b[0;36m60\u001b[0m\u001b[0;34m\u001b[0m\u001b[0;34m\u001b[0m\u001b[0m\n\u001b[1;32m      5\u001b[0m \u001b[0mmemplex_iteration\u001b[0m \u001b[0;34m=\u001b[0m \u001b[0;36m8\u001b[0m\u001b[0;34m\u001b[0m\u001b[0;34m\u001b[0m\u001b[0m\n\u001b[0;32m----> 6\u001b[0;31m \u001b[0mdocs\u001b[0m \u001b[0;34m=\u001b[0m \u001b[0mdataset\u001b[0m\u001b[0;34m.\u001b[0m\u001b[0mdata\u001b[0m\u001b[0;34m\u001b[0m\u001b[0;34m\u001b[0m\u001b[0m\n\u001b[0m\u001b[1;32m      7\u001b[0m \u001b[0mdocs_vector\u001b[0m \u001b[0;34m=\u001b[0m \u001b[0mdocs_as_tfidf\u001b[0m\u001b[0;34m(\u001b[0m\u001b[0mdocs\u001b[0m\u001b[0;34m)\u001b[0m\u001b[0;34m\u001b[0m\u001b[0;34m\u001b[0m\u001b[0m\n\u001b[1;32m      8\u001b[0m \u001b[0mcluster_size\u001b[0m \u001b[0;34m=\u001b[0m\u001b[0;36m4\u001b[0m\u001b[0;34m\u001b[0m\u001b[0;34m\u001b[0m\u001b[0m\n",
            "\u001b[0;31mNameError\u001b[0m: name 'dataset' is not defined"
          ]
        }
      ],
      "source": [
        "population_size = 400 # Frogs number\n",
        "memplex_num = 20 #define as m\n",
        "memplex_size = 20 #define as n\n",
        "max_iteration = 100 #Total Iteration\n",
        "memplex_iteration = 10 #Iteration As local search\n",
        "cluster_size = 4\n",
        "docs = dataset.data\n",
        "docs_vector = docs_as_tfidf(docs)\n",
        "print(list(docs_vector[0]))"
      ]
    },
    {
      "cell_type": "code",
      "execution_count": null,
      "metadata": {
        "id": "5Y_4pWLVAZIh"
      },
      "outputs": [],
      "source": [
        "def cosin_sim(a,b):\n",
        "   return cosine_similarity([a], [b])[0][0]"
      ]
    },
    {
      "cell_type": "code",
      "execution_count": 3,
      "metadata": {
        "id": "wU_Vs63UAfxR"
      },
      "outputs": [],
      "source": [
        "#Calculate sum of squared error(SSE) as similarity of each documents with the cluster mean in document\n",
        "def SSE(cluster,doc_mean):\n",
        "  size = len(cluster)\n",
        "  sse=0\n",
        "  for doc in cluster:\n",
        "    sse += cosin_sim(doc,doc_mean)**2\n",
        "  sse = sse/size\n",
        "  return sse"
      ]
    },
    {
      "cell_type": "code",
      "execution_count": null,
      "metadata": {
        "id": "djW8MEZJAhbt"
      },
      "outputs": [],
      "source": [
        "#Calculate similarity between clusters\n",
        "def BC(doc_means):\n",
        "   BC=0\n",
        "   size = len(doc_means)\n",
        "   for i in range(size):\n",
        "      for j in range(i+1,size):\n",
        "          BC += cosin_sim(doc_means[i],doc_means[j])**2\n",
        "   return BC"
      ]
    },
    {
      "cell_type": "code",
      "execution_count": 4,
      "metadata": {
        "id": "k8QcCXYyAlbp"
      },
      "outputs": [],
      "source": [
        "#Calculate similarity within clusters\n",
        "def WC(clusters):\n",
        "    WC = 0\n",
        "    for cluster in clusters:\n",
        "        doc_mean = np.average(cluster, axis=0)\n",
        "        WC += SSE(cluster,doc_mean)\n",
        "    return WC"
      ]
    },
    {
      "cell_type": "code",
      "execution_count": null,
      "metadata": {
        "id": "ctgFGZq4AoMy"
      },
      "outputs": [],
      "source": [
        "def build_clusters(answer,docs_vector,cluster_size):\n",
        "   clusters = []\n",
        "   for i in range(cluster_size):\n",
        "       clusters.append([])\n",
        "   for j in range(len(answer)):\n",
        "       if -1 < answer[j]:\n",
        "        clusters[answer[j]].append(docs_vector[j])\n",
        "   return clusters"
      ]
    },
    {
      "cell_type": "code",
      "execution_count": 5,
      "metadata": {
        "id": "UxmKqWWwAr-p"
      },
      "outputs": [],
      "source": [
        "def fitness(answer,docs_vector,size):\n",
        "   doc_means = []\n",
        " #  pdb.runcall(build_clusters,answer,docs_vector,clusters_size)\n",
        "   clusters = build_clusters(answer,docs_vector,size)\n",
        "   for i in range(size):\n",
        "       doc_means.append(\n",
        "          np.average(clusters[i], axis=0)\n",
        "       )\n",
        "   wc = WC(clusters)\n",
        "   bc = BC(doc_means)\n",
        "   fitness = wc/bc\n",
        "   return fitness"
      ]
    },
    {
      "cell_type": "code",
      "execution_count": null,
      "metadata": {
        "id": "G9KMmJLRAyA9"
      },
      "outputs": [],
      "source": [
        "def cross_over(answer_a,answer_b):\n",
        "    frog_size = len(answer_a)\n",
        "    points = sorted(np.random.choice(np.arange(0,frog_size), size=2, replace=False))\n",
        "    child1 = answer_a[:points[0]] + answer_b[points[0]:points[1]] + answer_a[points[1]:]\n",
        "    child2 = answer_b[:points[0]] + answer_a[points[0]:points[1]] + answer_b[points[1]:]\n",
        " #   pdb.set_trace()\n",
        "    fitness1 =  fitness(child1 ,docs_vector,cluster_size)\n",
        "    fitness2 = fitness(child2 ,docs_vector,cluster_size)\n",
        "    if fitness1 > fitness2:\n",
        "       return child1 , fitness1\n",
        "    else :\n",
        "       return child2 , fitness2"
      ]
    },
    {
      "cell_type": "code",
      "execution_count": null,
      "metadata": {
        "id": "I7IQ2BZ6A2mE"
      },
      "outputs": [],
      "source": [
        "\n",
        "\n",
        "def best_and_worst(answers):\n",
        "     best =  max(answers, key=answers.get)\n",
        "     worst = min(answers, key=answers.get)\n",
        "     return tuple(best) , tuple(worst)\n"
      ]
    },
    {
      "cell_type": "code",
      "execution_count": null,
      "metadata": {
        "id": "sl1HNpfnA4aH"
      },
      "outputs": [],
      "source": [
        "def global_best(memplexes):\n",
        "     local_bests = {}\n",
        "     for memplex in memplexes:\n",
        "         local_best =  max(memplex, key=memplex.get)\n",
        "         local_bests[local_best]= memplex[local_best]\n",
        "     global_best = max(local_bests, key=local_bests.get)\n",
        "     return global_best, local_bests[global_best]"
      ]
    },
    {
      "cell_type": "code",
      "execution_count": 6,
      "metadata": {
        "id": "IyxvE3VTA8CF"
      },
      "outputs": [],
      "source": [
        "def keys_to_remove(keys , dict):\n",
        "   for k in keys:\n",
        "      if k in dict:\n",
        "          dict.pop(k)\n",
        "   return dict"
      ]
    },
    {
      "cell_type": "code",
      "execution_count": null,
      "metadata": {
        "id": "q_So4_XjBCHg"
      },
      "outputs": [],
      "source": [
        "def mutation(global_best,clusters_size):\n",
        "    new_ans = list(global_best)\n",
        "    size = int(len(global_best)/4)\n",
        "    indexes = np.random.choice(np.arange(0,len(global_best)), size=size, replace=False)\n",
        "    values= [random.randint(0, 3) for _ in range(size)]\n",
        "    for i in range(size):\n",
        "      new_ans[indexes[i]] = values[i]\n",
        "    return tuple(new_ans)"
      ]
    },
    {
      "cell_type": "code",
      "execution_count": null,
      "metadata": {
        "id": "fNAgxJGYBEX9"
      },
      "outputs": [],
      "source": [
        "def Create_memplexes(population,memplex_num):\n",
        "     population = dict( sorted(population.items(), key=operator.itemgetter(1), reverse=True))\n",
        "     memplexes = []\n",
        "     keys = list(population.keys())\n",
        "     population_size = len(population)\n",
        "     for i in range(memplex_num):\n",
        "         memplexes.append({})\n",
        "     for i in range(population_size):\n",
        "         memplexes[i % memplex_num][keys[i]] = population[keys[i]]\n",
        "     return memplexes"
      ]
    },
    {
      "cell_type": "code",
      "execution_count": null,
      "metadata": {
        "id": "DC9UfM-YnV8S"
      },
      "outputs": [],
      "source": [
        "def create_submemplex(memplex,memplex_size, submemplex_size):\n",
        "    sub_memplex = {}\n",
        "    prob_list = []\n",
        "    keys = []\n",
        "    for i in range(memplex_size):\n",
        "       for j in range(2*(memplex_size-i)):\n",
        "          prob_list.append(i)\n",
        "    k=0\n",
        "    while(k!=submemplex_size):\n",
        "       index = random.choice(prob_list)\n",
        "       key = list(memplex.keys())[index]\n",
        "       if key not in keys:\n",
        "           sub_memplex[key] = memplex[key]\n",
        "           keys.append(key)\n",
        "           k+=1\n",
        "    return sub_memplex\n",
        ""
      ]
    },
    {
      "cell_type": "code",
      "execution_count": null,
      "metadata": {
        "id": "WghpigCiBH25"
      },
      "outputs": [],
      "source": [
        "def shufeling(memplexes):\n",
        "    output = {}\n",
        "    for memplex in memplexes:\n",
        "        output.update(memplex)\n",
        "    return output"
      ]
    },
    {
      "cell_type": "code",
      "execution_count": null,
      "metadata": {
        "id": "mklQKBI7uige"
      },
      "outputs": [],
      "source": [
        "\n",
        "def is_in_population(answer,memplexes,submemplex):\n",
        "    if answer in submemplex:\n",
        "       return True\n",
        "    for memplexe in memplexes:\n",
        "       if (answer in memplexe):\n",
        "          return True\n",
        "    else:\n",
        "       return False"
      ]
    },
    {
      "cell_type": "code",
      "execution_count": 7,
      "metadata": {
        "id": "VEofbesdBRJZ"
      },
      "outputs": [],
      "source": [
        "def frog_leaping_search(docs_vector):\n",
        "                     answers=np.random.randint(0, cluster_size, size=(population_size , len(docs)))\n",
        "                     population = {}\n",
        "                     i=0\n",
        "                     for answer in answers:\n",
        "                      #  pdb.runcall(fitness,answer,docs_vector,cluster_size)\n",
        "                        i+=1\n",
        "                        population[tuple(answer)] = fitness(answer,docs_vector,cluster_size)\n",
        "                        print(i,population[tuple(answer)])\n",
        "\n",
        "                     for i in range(max_iteration):\n",
        "                    #    pdb.runcall(Create_memplexes,population, memplex_num)\n",
        "                        memplexes = Create_memplexes(population, memplex_num)\n",
        "                        population.clear()\n",
        "                        if (i == 1):\n",
        "                            pdb.set_trace()\n",
        "                        for j in range(memplex_num):\n",
        "                            print(i,j,len(memplexes[j]))\n",
        "                            #pdb.runcall(create_submemplex,memplexes[j],memplex_size, 5)\n",
        "                            sub_memplex = create_submemplex(memplexes[j],memplex_size, 5)\n",
        "                            memplexes[j] =  keys_to_remove(sub_memplex.keys(),memplexes[j])\n",
        "                            for k in range(memplex_iteration):\n",
        "                               # pdb.runcall(best_and_worst,sub_memplex)\n",
        "\n",
        "                           #     for m in sub_memplex:\n",
        "                            #        print(list(m))\\n\",\n",
        "                                ans_best, ans_worst = best_and_worst(sub_memplex)\n",
        "                                ans_out , fitness_out = cross_over(ans_best,ans_worst)\n",
        "                                while(is_in_population(ans_out,memplexes,sub_memplex)== True):\n",
        "                                    ans_best, ans_worst = best_and_worst(sub_memplex)\n",
        "                                    ans_out , fitness_out = cross_over(ans_best,ans_worst)\n",
        "\n",
        "\n",
        "                                if (ans_out in sub_memplex):\n",
        "                                    print(\\\"errrrrrrrrrrorrrrrrrA\\\",k)\n",
        "                                 #   pdb.set_trace()\\n\",\n",
        "\n",
        "                              #pdb.runcall(best_and_worst,sub_memplex)\\n\",\n",
        "                               # print(\\\"############\\\")\\n\",\n",
        "\n",
        "\n",
        "                                if (sub_memplex[ans_worst]<fitness_out):\n",
        "                                    del sub_memplex[ans_worst]\n",
        "                                    sub_memplex[ans_out] = fitness_out\n",
        "                                    #sec C\\n\",\n",
        "                                else:\n",
        "                                   # pdb.runcall(global_best,memplexes)\n",
        "                                    g_best, g_value = global_best(memplexes)\n",
        "                                    ans_out , fitness_out = cross_over(g_best,ans_worst)\n",
        "                                    while(is_in_population(ans_out,memplexes,sub_memplex)== False):\n",
        "                                        ans_best, ans_worst = best_and_worst(sub_memplex)\n",
        "                                        ans_out , fitness_out = cross_over(ans_out,ans_worst)\n",
        "                                 #   if (ans_out in sub_memplex):\\n\",\n",
        "                                  #     print(\\\"errrrrrrrrrrorrrrrrrB\\\")\\n\",\n",
        "                              #         pdb.set_trace()\\n\",\n",
        "                                    #sec D\\n\",\n",
        "                                    ###############################################\\n\",\n",
        "                             #       if len(sub_memplex)< 5:\\n\",\n",
        "                              #            print(\\\"errrrrrrrrrrrorrrrrrrrrrrrrD\\\")\\n\",\n",
        "                               #           pdb.set_trace()\\n\",\n",
        "                                    ###############################################\\n\",\n",
        "                                    if ((sub_memplex[ans_worst] < fitness_out) and ans_out not in sub_memplex):\n",
        "                                        del sub_memplex[ans_worst]\n",
        "                                        sub_memplex[ans_out] = fitness_out\n",
        "                                        #sec E\\n\",\n",
        "                                        ###############################################\\n\",\n",
        "                            #            if len(sub_memplex)< 5:\\n\",\n",
        "                             #                 print(\\\"errrrrrrrrrrrorrrrrrrrrrrrrE\\\")\\n\",\n",
        "                              #                pdb.set_trace()\\n\",\n",
        "                                    ###############################################\\n\",\n",
        "                                    else:\n",
        "                                   #     print(\\\\\\\"#########\\\\\\\")\\n\",\n",
        "                                    #    for m in sub_memplex:\\n\",\n",
        "                                     #        print(list(m))\\n\",\n",
        "\n",
        "                                     #   pdb.runcall(mutation,g_best,cluster_size)\n",
        "                                        ans_out = mutation(g_best,cluster_size)\n",
        "\n",
        "                                        if (ans_out in sub_memplex):\n",
        "                                           print(\\\"errrrrrrrrrrorrrrrrrC\\\")\n",
        "                                        #   pdb.set_trace()\\n\",\n",
        "                                        del sub_memplex[ans_worst]\n",
        "                                        fitness_out = fitness(ans_out,docs_vector,cluster_size)\n",
        "                                        sub_memplex[ans_out] = fitness_out\n",
        "                                        #sec F\\n\",\n",
        "                                        ###############################################\\n\",\n",
        "                               #         if len(sub_memplex)< 5:\\n\",\n",
        "                                #              print(\\\"errrrrrrrrrrrorrrrrrrrrrrrrF\\\")\\n\",\n",
        "                                 #             pdb.set_trace()\\n\",\n",
        "                                       ###############################################\\n\",\n",
        "                        #     pdb.runcall(join_dicts,memplexes[j],sub_memplex)\\n\",\n",
        "                            memplexes[j].update(sub_memplex)\n",
        "                            print(i,j,len(memplexes[j]))\n",
        "                        g_best, g_value = global_best(memplexes)\n",
        "                       # pdb.runcall(show_result,g_best)\\n\",\n",
        "                        print(g_best)\n",
        "                        print(g_value)\n",
        "                       # pdb.set_trace()\n",
        "                        population = shufeling(memplexes)\n",
        "                        print(len(population))\n",
        "                     return g_best, g_value, population"
      ]
    },
    {
      "cell_type": "markdown",
      "metadata": {
        "id": "ykAWu-IWkba0"
      },
      "source": []
    },
    {
      "cell_type": "code",
      "execution_count": null,
      "metadata": {
        "colab": {
          "base_uri": "https://localhost:8080/",
          "height": 1000
        },
        "id": "0FrmD4etKFsn",
        "outputId": "755b10ce-b67d-4680-8b8c-cb2c33f160b4"
      },
      "outputs": [
        {
          "output_type": "stream",
          "name": "stdout",
          "text": [
            "1 0.012097490547207526\n",
            "2 0.0121636664004803\n",
            "3 0.012207197324226452\n",
            "4 0.012104857412506108\n",
            "5 0.012192232560885776\n",
            "6 0.012178627740158637\n",
            "7 0.012220754179089915\n",
            "8 0.012255285799384985\n",
            "9 0.012134927205465973\n",
            "10 0.012194131038041066\n",
            "11 0.012176571773670652\n",
            "12 0.012212519040737311\n",
            "13 0.012192465255790251\n",
            "14 0.012135655155282683\n",
            "15 0.012211234338769824\n",
            "16 0.01214674966520851\n",
            "17 0.012228758757086958\n",
            "18 0.012131811850475243\n",
            "19 0.012295264478349723\n",
            "20 0.012143349754452682\n",
            "21 0.012160970594502643\n",
            "22 0.01218208576135155\n",
            "23 0.012253660600725736\n",
            "24 0.012259871594064695\n",
            "25 0.012126142157464605\n",
            "26 0.012181133878794928\n",
            "27 0.012164427640121355\n",
            "28 0.012206605374201594\n",
            "29 0.012144288881109879\n",
            "30 0.012158627665297869\n",
            "31 0.012154109008411332\n",
            "32 0.012241820640507273\n",
            "33 0.012278950626602924\n",
            "34 0.012207834137737164\n",
            "35 0.012158552872092046\n",
            "36 0.012210462198050887\n",
            "37 0.012109904508449945\n",
            "38 0.012196143889936752\n",
            "39 0.01214055136876652\n",
            "40 0.012205499752623302\n",
            "41 0.012226833586111837\n",
            "42 0.012180130813516165\n",
            "43 0.012321574477651998\n",
            "44 0.012152039598413716\n",
            "45 0.012153883026695214\n",
            "46 0.012082478290599004\n",
            "47 0.012142170656499723\n",
            "48 0.012269107332603314\n",
            "49 0.012193364821958973\n",
            "50 0.012165012589020014\n",
            "51 0.01218490612696119\n",
            "52 0.012213309342482473\n",
            "53 0.012213626024692191\n",
            "54 0.012237355501072121\n",
            "55 0.01222103482524379\n",
            "56 0.012205204166507761\n",
            "57 0.012172658197521044\n",
            "58 0.012161734795506286\n",
            "59 0.012234909465912562\n",
            "60 0.012140703845833609\n",
            "61 0.012140085290850344\n",
            "62 0.0121944682919351\n",
            "63 0.01219327439216018\n",
            "64 0.012217640689815415\n",
            "65 0.012160317890978954\n",
            "66 0.012181026653522001\n",
            "67 0.012151621628627691\n",
            "68 0.012189174433539788\n",
            "69 0.012237592806227169\n",
            "70 0.012166546907288148\n",
            "71 0.01216816020928323\n",
            "72 0.012142911161787609\n",
            "73 0.012210899867679688\n",
            "74 0.012194310163416707\n",
            "75 0.012189547247309963\n",
            "76 0.012254815253126192\n",
            "77 0.012189478036504019\n",
            "78 0.012180144450796536\n",
            "79 0.012242291616301982\n",
            "80 0.012236521380606897\n",
            "81 0.012302358994063293\n",
            "82 0.012189226464204343\n",
            "83 0.012207559591577237\n",
            "84 0.012253152590638016\n",
            "85 0.012144884046841041\n",
            "86 0.012186066806964586\n",
            "87 0.012116097146049972\n",
            "88 0.012223976202749684\n",
            "89 0.01220980250811245\n",
            "90 0.012151961254826567\n",
            "91 0.012134779295274596\n",
            "92 0.01223771879134023\n",
            "93 0.012287301008057732\n",
            "94 0.012258838356642047\n",
            "95 0.012238472947792043\n",
            "96 0.012187611408654948\n",
            "97 0.012183686341018277\n",
            "98 0.012228354620217492\n",
            "99 0.012237170403340878\n",
            "100 0.01216231295660924\n",
            "101 0.012280227629936118\n",
            "102 0.012256557936339965\n",
            "103 0.012156752555907308\n",
            "104 0.012250725047713164\n",
            "105 0.012124320638781176\n",
            "106 0.012293402610852206\n",
            "107 0.012131268761766664\n",
            "108 0.012209220206291213\n",
            "109 0.012133519039110339\n",
            "110 0.01208236490247831\n",
            "111 0.012275893388056465\n",
            "112 0.01210060302626446\n",
            "113 0.012280507722979873\n",
            "114 0.012145930792936552\n",
            "115 0.012208329712417245\n",
            "116 0.012101341560178867\n",
            "117 0.012201089104572238\n",
            "118 0.012332649565407451\n",
            "119 0.012302319489828904\n",
            "120 0.012212411147461815\n",
            "0 0 10\n",
            "errrrrrrrrrrorrrrrrrA 4\n",
            "errrrrrrrrrrorrrrrrrA 7\n",
            "0 0 8\n",
            "0 1 10\n",
            "errrrrrrrrrrorrrrrrrA 3\n",
            "errrrrrrrrrrorrrrrrrA 6\n",
            "errrrrrrrrrrorrrrrrrA 7\n",
            "0 1 7\n",
            "0 2 10\n",
            "errrrrrrrrrrorrrrrrrA 5\n",
            "errrrrrrrrrrorrrrrrrA 6\n",
            "errrrrrrrrrrorrrrrrrA 7\n",
            "0 2 7\n",
            "0 3 10\n",
            "errrrrrrrrrrorrrrrrrA 3\n",
            "0 3 9\n",
            "0 4 10\n",
            "errrrrrrrrrrorrrrrrrA 5\n",
            "errrrrrrrrrrorrrrrrrA 7\n",
            "0 4 8\n",
            "0 5 10\n",
            "0 5 10\n",
            "0 6 10\n",
            "errrrrrrrrrrorrrrrrrA 5\n",
            "errrrrrrrrrrorrrrrrrA 7\n",
            "0 6 8\n",
            "0 7 10\n",
            "0 7 10\n",
            "0 8 10\n",
            "errrrrrrrrrrorrrrrrrA 3\n",
            "0 8 9\n",
            "0 9 10\n",
            "errrrrrrrrrrorrrrrrrA 4\n",
            "errrrrrrrrrrorrrrrrrA 6\n",
            "errrrrrrrrrrorrrrrrrA 7\n",
            "0 9 7\n",
            "0 10 10\n"
          ]
        },
        {
          "output_type": "error",
          "ename": "KeyboardInterrupt",
          "evalue": "ignored",
          "traceback": [
            "\u001b[0;31m---------------------------------------------------------------------------\u001b[0m",
            "\u001b[0;31mKeyboardInterrupt\u001b[0m                         Traceback (most recent call last)",
            "\u001b[0;32m<ipython-input-51-1ad69dcf1840>\u001b[0m in \u001b[0;36m<cell line: 1>\u001b[0;34m()\u001b[0m\n\u001b[0;32m----> 1\u001b[0;31m \u001b[0mg_best\u001b[0m\u001b[0;34m,\u001b[0m \u001b[0mg_value\u001b[0m\u001b[0;34m,\u001b[0m\u001b[0mpopulation\u001b[0m \u001b[0;34m=\u001b[0m \u001b[0mfrog_leaping_search\u001b[0m\u001b[0;34m(\u001b[0m\u001b[0mdocs_vector\u001b[0m\u001b[0;34m)\u001b[0m\u001b[0;34m\u001b[0m\u001b[0;34m\u001b[0m\u001b[0m\n\u001b[0m\u001b[1;32m      2\u001b[0m \u001b[0mtrue\u001b[0m \u001b[0;34m=\u001b[0m \u001b[0;36m0\u001b[0m\u001b[0;34m\u001b[0m\u001b[0;34m\u001b[0m\u001b[0m\n\u001b[1;32m      3\u001b[0m \u001b[0msize\u001b[0m \u001b[0;34m=\u001b[0m \u001b[0mlen\u001b[0m\u001b[0;34m(\u001b[0m\u001b[0mdataset\u001b[0m\u001b[0;34m.\u001b[0m\u001b[0mdata\u001b[0m\u001b[0;34m)\u001b[0m\u001b[0;34m\u001b[0m\u001b[0;34m\u001b[0m\u001b[0m\n\u001b[1;32m      4\u001b[0m \u001b[0mprint\u001b[0m\u001b[0;34m(\u001b[0m\u001b[0mlabels\u001b[0m\u001b[0;34m)\u001b[0m\u001b[0;34m\u001b[0m\u001b[0;34m\u001b[0m\u001b[0m\n\u001b[1;32m      5\u001b[0m \u001b[0mprint\u001b[0m\u001b[0;34m(\u001b[0m\u001b[0mlist\u001b[0m\u001b[0;34m(\u001b[0m\u001b[0mg_best\u001b[0m\u001b[0;34m)\u001b[0m\u001b[0;34m)\u001b[0m\u001b[0;34m\u001b[0m\u001b[0;34m\u001b[0m\u001b[0m\n",
            "\u001b[0;32m<ipython-input-23-932fbe3a454c>\u001b[0m in \u001b[0;36mfrog_leaping_search\u001b[0;34m(docs_vector)\u001b[0m\n\u001b[1;32m     27\u001b[0m                     \u001b[0;31m#        print(list(m))\u001b[0m\u001b[0;34m\u001b[0m\u001b[0;34m\u001b[0m\u001b[0m\n\u001b[1;32m     28\u001b[0m                         \u001b[0mans_best\u001b[0m\u001b[0;34m,\u001b[0m \u001b[0mans_worst\u001b[0m \u001b[0;34m=\u001b[0m \u001b[0mbest_and_worst\u001b[0m\u001b[0;34m(\u001b[0m\u001b[0msub_memplex\u001b[0m\u001b[0;34m)\u001b[0m\u001b[0;34m\u001b[0m\u001b[0;34m\u001b[0m\u001b[0m\n\u001b[0;32m---> 29\u001b[0;31m                         \u001b[0mans_out\u001b[0m \u001b[0;34m,\u001b[0m \u001b[0mfitness_out\u001b[0m \u001b[0;34m=\u001b[0m \u001b[0mcross_over\u001b[0m\u001b[0;34m(\u001b[0m\u001b[0mans_best\u001b[0m\u001b[0;34m,\u001b[0m\u001b[0mans_worst\u001b[0m\u001b[0;34m)\u001b[0m\u001b[0;34m\u001b[0m\u001b[0;34m\u001b[0m\u001b[0m\n\u001b[0m\u001b[1;32m     30\u001b[0m                        \u001b[0;31m# while(is_in_population(ans_out,memplexes,sub_memplex)== True):\u001b[0m\u001b[0;34m\u001b[0m\u001b[0;34m\u001b[0m\u001b[0m\n\u001b[1;32m     31\u001b[0m                         \u001b[0;31m#    ans_best, ans_worst = best_and_worst(sub_memplex)\u001b[0m\u001b[0;34m\u001b[0m\u001b[0;34m\u001b[0m\u001b[0m\n",
            "\u001b[0;32m<ipython-input-42-815133f38d1e>\u001b[0m in \u001b[0;36mcross_over\u001b[0;34m(answer_a, answer_b)\u001b[0m\n\u001b[1;32m      5\u001b[0m     \u001b[0mchild2\u001b[0m \u001b[0;34m=\u001b[0m \u001b[0manswer_b\u001b[0m\u001b[0;34m[\u001b[0m\u001b[0;34m:\u001b[0m\u001b[0mpoints\u001b[0m\u001b[0;34m[\u001b[0m\u001b[0;36m0\u001b[0m\u001b[0;34m]\u001b[0m\u001b[0;34m]\u001b[0m \u001b[0;34m+\u001b[0m \u001b[0manswer_a\u001b[0m\u001b[0;34m[\u001b[0m\u001b[0mpoints\u001b[0m\u001b[0;34m[\u001b[0m\u001b[0;36m0\u001b[0m\u001b[0;34m]\u001b[0m\u001b[0;34m:\u001b[0m\u001b[0mpoints\u001b[0m\u001b[0;34m[\u001b[0m\u001b[0;36m1\u001b[0m\u001b[0;34m]\u001b[0m\u001b[0;34m]\u001b[0m \u001b[0;34m+\u001b[0m \u001b[0manswer_b\u001b[0m\u001b[0;34m[\u001b[0m\u001b[0mpoints\u001b[0m\u001b[0;34m[\u001b[0m\u001b[0;36m1\u001b[0m\u001b[0;34m]\u001b[0m\u001b[0;34m:\u001b[0m\u001b[0;34m]\u001b[0m\u001b[0;34m\u001b[0m\u001b[0;34m\u001b[0m\u001b[0m\n\u001b[1;32m      6\u001b[0m  \u001b[0;31m#   pdb.set_trace()\u001b[0m\u001b[0;34m\u001b[0m\u001b[0;34m\u001b[0m\u001b[0m\n\u001b[0;32m----> 7\u001b[0;31m     \u001b[0mfitness1\u001b[0m \u001b[0;34m=\u001b[0m  \u001b[0mfitness\u001b[0m\u001b[0;34m(\u001b[0m\u001b[0mchild1\u001b[0m \u001b[0;34m,\u001b[0m\u001b[0mdocs_vector\u001b[0m\u001b[0;34m,\u001b[0m\u001b[0mcluster_size\u001b[0m\u001b[0;34m)\u001b[0m\u001b[0;34m\u001b[0m\u001b[0;34m\u001b[0m\u001b[0m\n\u001b[0m\u001b[1;32m      8\u001b[0m     \u001b[0mfitness2\u001b[0m \u001b[0;34m=\u001b[0m \u001b[0mfitness\u001b[0m\u001b[0;34m(\u001b[0m\u001b[0mchild2\u001b[0m \u001b[0;34m,\u001b[0m\u001b[0mdocs_vector\u001b[0m\u001b[0;34m,\u001b[0m\u001b[0mcluster_size\u001b[0m\u001b[0;34m)\u001b[0m\u001b[0;34m\u001b[0m\u001b[0;34m\u001b[0m\u001b[0m\n\u001b[1;32m      9\u001b[0m     \u001b[0;32mif\u001b[0m \u001b[0mfitness1\u001b[0m \u001b[0;34m>\u001b[0m \u001b[0mfitness2\u001b[0m\u001b[0;34m:\u001b[0m\u001b[0;34m\u001b[0m\u001b[0;34m\u001b[0m\u001b[0m\n",
            "\u001b[0;32m<ipython-input-41-e32dafe8b89e>\u001b[0m in \u001b[0;36mfitness\u001b[0;34m(answer, docs_vector, clusters_size)\u001b[0m\n\u001b[1;32m      7\u001b[0m           \u001b[0mnp\u001b[0m\u001b[0;34m.\u001b[0m\u001b[0maverage\u001b[0m\u001b[0;34m(\u001b[0m\u001b[0mclusters\u001b[0m\u001b[0;34m[\u001b[0m\u001b[0mi\u001b[0m\u001b[0;34m]\u001b[0m\u001b[0;34m,\u001b[0m \u001b[0maxis\u001b[0m\u001b[0;34m=\u001b[0m\u001b[0;36m0\u001b[0m\u001b[0;34m)\u001b[0m\u001b[0;34m\u001b[0m\u001b[0;34m\u001b[0m\u001b[0m\n\u001b[1;32m      8\u001b[0m        )\n\u001b[0;32m----> 9\u001b[0;31m    \u001b[0mwc\u001b[0m \u001b[0;34m=\u001b[0m \u001b[0mWC\u001b[0m\u001b[0;34m(\u001b[0m\u001b[0mclusters\u001b[0m\u001b[0;34m)\u001b[0m\u001b[0;34m\u001b[0m\u001b[0;34m\u001b[0m\u001b[0m\n\u001b[0m\u001b[1;32m     10\u001b[0m    \u001b[0mbc\u001b[0m \u001b[0;34m=\u001b[0m \u001b[0mBC\u001b[0m\u001b[0;34m(\u001b[0m\u001b[0mdoc_means\u001b[0m\u001b[0;34m)\u001b[0m\u001b[0;34m\u001b[0m\u001b[0;34m\u001b[0m\u001b[0m\n\u001b[1;32m     11\u001b[0m    \u001b[0mfitness\u001b[0m \u001b[0;34m=\u001b[0m \u001b[0mwc\u001b[0m\u001b[0;34m/\u001b[0m\u001b[0mbc\u001b[0m\u001b[0;34m\u001b[0m\u001b[0;34m\u001b[0m\u001b[0m\n",
            "\u001b[0;32m<ipython-input-39-f0b77015cc51>\u001b[0m in \u001b[0;36mWC\u001b[0;34m(clusters)\u001b[0m\n\u001b[1;32m      4\u001b[0m     \u001b[0;32mfor\u001b[0m \u001b[0mcluster\u001b[0m \u001b[0;32min\u001b[0m \u001b[0mclusters\u001b[0m\u001b[0;34m:\u001b[0m\u001b[0;34m\u001b[0m\u001b[0;34m\u001b[0m\u001b[0m\n\u001b[1;32m      5\u001b[0m         \u001b[0mdoc_mean\u001b[0m \u001b[0;34m=\u001b[0m \u001b[0mnp\u001b[0m\u001b[0;34m.\u001b[0m\u001b[0maverage\u001b[0m\u001b[0;34m(\u001b[0m\u001b[0mcluster\u001b[0m\u001b[0;34m,\u001b[0m \u001b[0maxis\u001b[0m\u001b[0;34m=\u001b[0m\u001b[0;36m0\u001b[0m\u001b[0;34m)\u001b[0m\u001b[0;34m\u001b[0m\u001b[0;34m\u001b[0m\u001b[0m\n\u001b[0;32m----> 6\u001b[0;31m         \u001b[0mWC\u001b[0m \u001b[0;34m+=\u001b[0m \u001b[0mSSE\u001b[0m\u001b[0;34m(\u001b[0m\u001b[0mcluster\u001b[0m\u001b[0;34m,\u001b[0m\u001b[0mdoc_mean\u001b[0m\u001b[0;34m)\u001b[0m\u001b[0;34m\u001b[0m\u001b[0;34m\u001b[0m\u001b[0m\n\u001b[0m\u001b[1;32m      7\u001b[0m     \u001b[0;32mreturn\u001b[0m \u001b[0mWC\u001b[0m\u001b[0;34m\u001b[0m\u001b[0;34m\u001b[0m\u001b[0m\n\u001b[1;32m      8\u001b[0m \u001b[0;34m\u001b[0m\u001b[0m\n",
            "\u001b[0;32m<ipython-input-37-3cacf6f72373>\u001b[0m in \u001b[0;36mSSE\u001b[0;34m(cluster, doc_mean)\u001b[0m\n\u001b[1;32m      5\u001b[0m   \u001b[0msse\u001b[0m\u001b[0;34m=\u001b[0m\u001b[0;36m0\u001b[0m\u001b[0;34m\u001b[0m\u001b[0;34m\u001b[0m\u001b[0m\n\u001b[1;32m      6\u001b[0m   \u001b[0;32mfor\u001b[0m \u001b[0mdoc\u001b[0m \u001b[0;32min\u001b[0m \u001b[0mcluster\u001b[0m\u001b[0;34m:\u001b[0m\u001b[0;34m\u001b[0m\u001b[0;34m\u001b[0m\u001b[0m\n\u001b[0;32m----> 7\u001b[0;31m     \u001b[0msse\u001b[0m \u001b[0;34m+=\u001b[0m \u001b[0mcosin_sim\u001b[0m\u001b[0;34m(\u001b[0m\u001b[0mdoc\u001b[0m\u001b[0;34m,\u001b[0m\u001b[0mdoc_mean\u001b[0m\u001b[0;34m)\u001b[0m\u001b[0;34m**\u001b[0m\u001b[0;36m2\u001b[0m\u001b[0;34m\u001b[0m\u001b[0;34m\u001b[0m\u001b[0m\n\u001b[0m\u001b[1;32m      8\u001b[0m   \u001b[0msse\u001b[0m \u001b[0;34m=\u001b[0m \u001b[0msse\u001b[0m\u001b[0;34m/\u001b[0m\u001b[0msize\u001b[0m\u001b[0;34m\u001b[0m\u001b[0;34m\u001b[0m\u001b[0m\n\u001b[1;32m      9\u001b[0m   \u001b[0;32mreturn\u001b[0m \u001b[0msse\u001b[0m\u001b[0;34m\u001b[0m\u001b[0;34m\u001b[0m\u001b[0m\n",
            "\u001b[0;32m<ipython-input-36-cd5c3581c66a>\u001b[0m in \u001b[0;36mcosin_sim\u001b[0;34m(a, b)\u001b[0m\n\u001b[1;32m      1\u001b[0m \u001b[0;32mfrom\u001b[0m \u001b[0msklearn\u001b[0m\u001b[0;34m.\u001b[0m\u001b[0mmetrics\u001b[0m\u001b[0;34m.\u001b[0m\u001b[0mpairwise\u001b[0m \u001b[0;32mimport\u001b[0m \u001b[0mcosine_similarity\u001b[0m\u001b[0;34m\u001b[0m\u001b[0;34m\u001b[0m\u001b[0m\n\u001b[1;32m      2\u001b[0m \u001b[0;32mdef\u001b[0m \u001b[0mcosin_sim\u001b[0m\u001b[0;34m(\u001b[0m\u001b[0ma\u001b[0m\u001b[0;34m,\u001b[0m\u001b[0mb\u001b[0m\u001b[0;34m)\u001b[0m\u001b[0;34m:\u001b[0m\u001b[0;34m\u001b[0m\u001b[0;34m\u001b[0m\u001b[0m\n\u001b[0;32m----> 3\u001b[0;31m    \u001b[0;32mreturn\u001b[0m \u001b[0mcosine_similarity\u001b[0m\u001b[0;34m(\u001b[0m\u001b[0;34m[\u001b[0m\u001b[0ma\u001b[0m\u001b[0;34m]\u001b[0m\u001b[0;34m,\u001b[0m \u001b[0;34m[\u001b[0m\u001b[0mb\u001b[0m\u001b[0;34m]\u001b[0m\u001b[0;34m)\u001b[0m\u001b[0;34m[\u001b[0m\u001b[0;36m0\u001b[0m\u001b[0;34m]\u001b[0m\u001b[0;34m[\u001b[0m\u001b[0;36m0\u001b[0m\u001b[0;34m]\u001b[0m\u001b[0;34m\u001b[0m\u001b[0;34m\u001b[0m\u001b[0m\n\u001b[0m",
            "\u001b[0;32m/usr/local/lib/python3.10/dist-packages/sklearn/metrics/pairwise.py\u001b[0m in \u001b[0;36mcosine_similarity\u001b[0;34m(X, Y, dense_output)\u001b[0m\n\u001b[1;32m   1399\u001b[0m         \u001b[0mY_normalized\u001b[0m \u001b[0;34m=\u001b[0m \u001b[0mnormalize\u001b[0m\u001b[0;34m(\u001b[0m\u001b[0mY\u001b[0m\u001b[0;34m,\u001b[0m \u001b[0mcopy\u001b[0m\u001b[0;34m=\u001b[0m\u001b[0;32mTrue\u001b[0m\u001b[0;34m)\u001b[0m\u001b[0;34m\u001b[0m\u001b[0;34m\u001b[0m\u001b[0m\n\u001b[1;32m   1400\u001b[0m \u001b[0;34m\u001b[0m\u001b[0m\n\u001b[0;32m-> 1401\u001b[0;31m     \u001b[0mK\u001b[0m \u001b[0;34m=\u001b[0m \u001b[0msafe_sparse_dot\u001b[0m\u001b[0;34m(\u001b[0m\u001b[0mX_normalized\u001b[0m\u001b[0;34m,\u001b[0m \u001b[0mY_normalized\u001b[0m\u001b[0;34m.\u001b[0m\u001b[0mT\u001b[0m\u001b[0;34m,\u001b[0m \u001b[0mdense_output\u001b[0m\u001b[0;34m=\u001b[0m\u001b[0mdense_output\u001b[0m\u001b[0;34m)\u001b[0m\u001b[0;34m\u001b[0m\u001b[0;34m\u001b[0m\u001b[0m\n\u001b[0m\u001b[1;32m   1402\u001b[0m \u001b[0;34m\u001b[0m\u001b[0m\n\u001b[1;32m   1403\u001b[0m     \u001b[0;32mreturn\u001b[0m \u001b[0mK\u001b[0m\u001b[0;34m\u001b[0m\u001b[0;34m\u001b[0m\u001b[0m\n",
            "\u001b[0;32m/usr/local/lib/python3.10/dist-packages/sklearn/utils/extmath.py\u001b[0m in \u001b[0;36msafe_sparse_dot\u001b[0;34m(a, b, dense_output)\u001b[0m\n\u001b[1;32m    190\u001b[0m \u001b[0;34m\u001b[0m\u001b[0m\n\u001b[1;32m    191\u001b[0m     if (\n\u001b[0;32m--> 192\u001b[0;31m         \u001b[0msparse\u001b[0m\u001b[0;34m.\u001b[0m\u001b[0missparse\u001b[0m\u001b[0;34m(\u001b[0m\u001b[0ma\u001b[0m\u001b[0;34m)\u001b[0m\u001b[0;34m\u001b[0m\u001b[0;34m\u001b[0m\u001b[0m\n\u001b[0m\u001b[1;32m    193\u001b[0m         \u001b[0;32mand\u001b[0m \u001b[0msparse\u001b[0m\u001b[0;34m.\u001b[0m\u001b[0missparse\u001b[0m\u001b[0;34m(\u001b[0m\u001b[0mb\u001b[0m\u001b[0;34m)\u001b[0m\u001b[0;34m\u001b[0m\u001b[0;34m\u001b[0m\u001b[0m\n\u001b[1;32m    194\u001b[0m         \u001b[0;32mand\u001b[0m \u001b[0mdense_output\u001b[0m\u001b[0;34m\u001b[0m\u001b[0;34m\u001b[0m\u001b[0m\n",
            "\u001b[0;32m/usr/local/lib/python3.10/dist-packages/scipy/sparse/_base.py\u001b[0m in \u001b[0;36missparse\u001b[0;34m(x)\u001b[0m\n\u001b[1;32m   1459\u001b[0m \u001b[0;34m\u001b[0m\u001b[0m\n\u001b[1;32m   1460\u001b[0m \u001b[0;34m\u001b[0m\u001b[0m\n\u001b[0;32m-> 1461\u001b[0;31m \u001b[0;32mdef\u001b[0m \u001b[0missparse\u001b[0m\u001b[0;34m(\u001b[0m\u001b[0mx\u001b[0m\u001b[0;34m)\u001b[0m\u001b[0;34m:\u001b[0m\u001b[0;34m\u001b[0m\u001b[0;34m\u001b[0m\u001b[0m\n\u001b[0m\u001b[1;32m   1462\u001b[0m     \"\"\"Is `x` of a sparse array type?\n\u001b[1;32m   1463\u001b[0m \u001b[0;34m\u001b[0m\u001b[0m\n",
            "\u001b[0;31mKeyboardInterrupt\u001b[0m: "
          ]
        }
      ],
      "source": [
        "\n",
        "g_best, g_value,population = frog_leaping_search(docs_vector)\n",
        "true = 0\n",
        "size = len(dataset.data)\n",
        "print(labels)\n",
        "print(list(g_best))"
      ]
    },
    {
      "cell_type": "code",
      "execution_count": null,
      "metadata": {
        "id": "_aETTW9FqKbO"
      },
      "outputs": [],
      "source": [
        "print(1 not in [1,3,4,56])"
      ]
    }
  ],
  "metadata": {
    "colab": {
      "provenance": [],
      "toc_visible": true,
      "authorship_tag": "ABX9TyMlblf06k8CDVTQDIf748Tr",
      "include_colab_link": true
    },
    "kernelspec": {
      "display_name": "Python 3",
      "name": "python3"
    },
    "language_info": {
      "name": "python"
    }
  },
  "nbformat": 4,
  "nbformat_minor": 0
}